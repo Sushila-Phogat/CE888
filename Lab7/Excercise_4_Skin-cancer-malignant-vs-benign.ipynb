{
  "nbformat": 4,
  "nbformat_minor": 0,
  "metadata": {
    "colab": {
      "name": "Excercise_4_Carvana.ipynb",
      "provenance": [],
      "authorship_tag": "ABX9TyPkPauP/jppMQwSxhbX62i3",
      "include_colab_link": true
    },
    "kernelspec": {
      "name": "python3",
      "display_name": "Python 3"
    },
    "accelerator": "GPU"
  },
  "cells": [
    {
      "cell_type": "markdown",
      "metadata": {
        "id": "view-in-github",
        "colab_type": "text"
      },
      "source": [
        "<a href=\"https://colab.research.google.com/github/Sushila-Phogat/CE888/blob/master/Lab7/Excercise_4_Skin-cancer-malignant-vs-benign.ipynb\" target=\"_parent\"><img src=\"https://colab.research.google.com/assets/colab-badge.svg\" alt=\"Open In Colab\"/></a>"
      ]
    },
    {
      "cell_type": "code",
      "metadata": {
        "id": "R3jDJmsaTXDR",
        "colab_type": "code",
        "outputId": "c2560ca2-295f-4eb4-b385-6864f8843b7d",
        "colab": {
          "base_uri": "https://localhost:8080/",
          "height": 68
        }
      },
      "source": [
        "import os\n",
        "os.environ['KAGGLE_USERNAME'] = \"sushilakumari\" # username from the json file\n",
        "os.environ['KAGGLE_KEY'] = \"7b7e1df97720863d169f8fb9bde8e713\" # key from the json file\n",
        "!kaggle datasets download -d fanconic/skin-cancer-malignant-vs-benign # api copied from kaggle"
      ],
      "execution_count": 4,
      "outputs": [
        {
          "output_type": "stream",
          "text": [
            "Downloading skin-cancer-malignant-vs-benign.zip to /content\n",
            " 95% 310M/325M [00:02<00:00, 120MB/s]\n",
            "100% 325M/325M [00:02<00:00, 132MB/s]\n"
          ],
          "name": "stdout"
        }
      ]
    },
    {
      "cell_type": "code",
      "metadata": {
        "id": "mEAz8AvoXE5B",
        "colab_type": "code",
        "outputId": "9174ac9d-d237-4df6-bc5e-a6132819335e",
        "colab": {
          "base_uri": "https://localhost:8080/",
          "height": 34
        }
      },
      "source": [
        "# Upload data\n",
        "from zipfile import ZipFile\n",
        "\n",
        "file_name = \"/content/skin-cancer-malignant-vs-benign.zip\"\n",
        "\n",
        "with ZipFile(file_name, 'r') as zip:\n",
        "  zip.extractall()\n",
        "  print('done')\n",
        "\n",
        "  "
      ],
      "execution_count": 5,
      "outputs": [
        {
          "output_type": "stream",
          "text": [
            "done\n"
          ],
          "name": "stdout"
        }
      ]
    },
    {
      "cell_type": "markdown",
      "metadata": {
        "id": "4Dkq7-qcuyrk",
        "colab_type": "text"
      },
      "source": [
        "# Convolutional Neural Network model"
      ]
    },
    {
      "cell_type": "code",
      "metadata": {
        "id": "BOZcykbyXWn9",
        "colab_type": "code",
        "outputId": "49953caa-d562-4449-fe4e-170a07ef1fc7",
        "colab": {
          "base_uri": "https://localhost:8080/",
          "height": 527
        }
      },
      "source": [
        "from tensorflow.python.keras import layers\n",
        "from tensorflow.python.keras import models\n",
        "\n",
        "\n",
        "model = models.Sequential()\n",
        "model.add(layers.Conv2D(32, (3, 3), activation='relu', input_shape=(150, 150, 3)))\n",
        "model.add(layers.MaxPooling2D((2, 2)))\n",
        "model.add(layers.Conv2D(64, (3, 3), activation='relu'))\n",
        "model.add(layers.MaxPooling2D((2, 2)))\n",
        "model.add(layers.Conv2D(128, (3, 3), activation='relu'))\n",
        "model.add(layers.MaxPooling2D((2, 2)))\n",
        "model.add(layers.Conv2D(128, (3, 3), activation='relu'))\n",
        "model.add(layers.MaxPooling2D((2, 2)))\n",
        "model.add(layers.Flatten())\n",
        "model.add(layers.Dense(512, activation='relu'))\n",
        "model.add(layers.Dense(1, activation='sigmoid'))\n",
        "model.summary()"
      ],
      "execution_count": 11,
      "outputs": [
        {
          "output_type": "stream",
          "text": [
            "Model: \"sequential\"\n",
            "_________________________________________________________________\n",
            "Layer (type)                 Output Shape              Param #   \n",
            "=================================================================\n",
            "conv2d (Conv2D)              (None, 148, 148, 32)      896       \n",
            "_________________________________________________________________\n",
            "max_pooling2d (MaxPooling2D) (None, 74, 74, 32)        0         \n",
            "_________________________________________________________________\n",
            "conv2d_1 (Conv2D)            (None, 72, 72, 64)        18496     \n",
            "_________________________________________________________________\n",
            "max_pooling2d_1 (MaxPooling2 (None, 36, 36, 64)        0         \n",
            "_________________________________________________________________\n",
            "conv2d_2 (Conv2D)            (None, 34, 34, 128)       73856     \n",
            "_________________________________________________________________\n",
            "max_pooling2d_2 (MaxPooling2 (None, 17, 17, 128)       0         \n",
            "_________________________________________________________________\n",
            "conv2d_3 (Conv2D)            (None, 15, 15, 128)       147584    \n",
            "_________________________________________________________________\n",
            "max_pooling2d_3 (MaxPooling2 (None, 7, 7, 128)         0         \n",
            "_________________________________________________________________\n",
            "flatten (Flatten)            (None, 6272)              0         \n",
            "_________________________________________________________________\n",
            "dense (Dense)                (None, 512)               3211776   \n",
            "_________________________________________________________________\n",
            "dense_1 (Dense)              (None, 1)                 513       \n",
            "=================================================================\n",
            "Total params: 3,453,121\n",
            "Trainable params: 3,453,121\n",
            "Non-trainable params: 0\n",
            "_________________________________________________________________\n"
          ],
          "name": "stdout"
        }
      ]
    },
    {
      "cell_type": "code",
      "metadata": {
        "id": "oRVsCr25XYY2",
        "colab_type": "code",
        "colab": {}
      },
      "source": [
        "from tensorflow.keras.optimizers import RMSprop\n",
        "model.compile(loss='binary_crossentropy', \n",
        "              optimizer=RMSprop(lr=1e-4),\n",
        "              metrics=['acc'])"
      ],
      "execution_count": 0,
      "outputs": []
    },
    {
      "cell_type": "code",
      "metadata": {
        "id": "IVI4MZuMhpeZ",
        "colab_type": "code",
        "colab": {}
      },
      "source": [
        "train_dir=\"/content/data/train\"\n",
        "test_dir=\"/content/data/test\""
      ],
      "execution_count": 0,
      "outputs": []
    },
    {
      "cell_type": "markdown",
      "metadata": {
        "id": "tluic5lm102D",
        "colab_type": "text"
      },
      "source": [
        "# Decoding the pictures into grid of pixels"
      ]
    },
    {
      "cell_type": "code",
      "metadata": {
        "id": "gcEx72MCjuu7",
        "colab_type": "code",
        "colab": {
          "base_uri": "https://localhost:8080/",
          "height": 51
        },
        "outputId": "26bad6cf-3294-4309-9655-63c5782b42e4"
      },
      "source": [
        "from keras.preprocessing.image import ImageDataGenerator\n",
        "\n",
        "train_datagen = ImageDataGenerator(rescale=1./255)\n",
        "test_datagen = ImageDataGenerator(rescale=1./255)\n",
        "\n",
        "train_generator = train_datagen.flow_from_directory(train_dir,\n",
        "                                                    target_size=(150, 150), \n",
        "                                                    batch_size=20,\n",
        "                                                    class_mode='binary')\n",
        "\n",
        "test_generator = test_datagen.flow_from_directory(test_dir,\n",
        "                                                        target_size=(150, 150),\n",
        "                                                        batch_size=20,\n",
        "                                                        class_mode='binary')"
      ],
      "execution_count": 21,
      "outputs": [
        {
          "output_type": "stream",
          "text": [
            "Found 2637 images belonging to 2 classes.\n",
            "Found 660 images belonging to 2 classes.\n"
          ],
          "name": "stdout"
        }
      ]
    },
    {
      "cell_type": "markdown",
      "metadata": {
        "id": "JeMOoTNL2HZw",
        "colab_type": "text"
      },
      "source": [
        "#Train the model"
      ]
    },
    {
      "cell_type": "code",
      "metadata": {
        "id": "LAW0UIY116t7",
        "colab_type": "code",
        "colab": {
          "base_uri": "https://localhost:8080/",
          "height": 1000
        },
        "outputId": "0352ea24-aedf-4425-bcc9-483dae12e0e4"
      },
      "source": [
        "history = model.fit_generator(train_generator,\n",
        "                              steps_per_epoch=100,\n",
        "                              epochs=30,\n",
        "                              validation_data=test_generator,\n",
        "                              validation_steps=10)"
      ],
      "execution_count": 22,
      "outputs": [
        {
          "output_type": "stream",
          "text": [
            "WARNING:tensorflow:From <ipython-input-22-fb733303fc5c>:5: Model.fit_generator (from tensorflow.python.keras.engine.training) is deprecated and will be removed in a future version.\n",
            "Instructions for updating:\n",
            "Please use Model.fit, which supports generators.\n",
            "Epoch 1/30\n",
            "100/100 [==============================] - 5s 53ms/step - loss: 0.6075 - acc: 0.6675 - val_loss: 0.4667 - val_acc: 0.8200\n",
            "Epoch 2/30\n",
            "100/100 [==============================] - 5s 51ms/step - loss: 0.4868 - acc: 0.7606 - val_loss: 0.4679 - val_acc: 0.7200\n",
            "Epoch 3/30\n",
            "100/100 [==============================] - 5s 50ms/step - loss: 0.4695 - acc: 0.7646 - val_loss: 0.4370 - val_acc: 0.7800\n",
            "Epoch 4/30\n",
            "100/100 [==============================] - 5s 50ms/step - loss: 0.4382 - acc: 0.7817 - val_loss: 0.4275 - val_acc: 0.7800\n",
            "Epoch 5/30\n",
            "100/100 [==============================] - 5s 50ms/step - loss: 0.4287 - acc: 0.8030 - val_loss: 0.3663 - val_acc: 0.8200\n",
            "Epoch 6/30\n",
            "100/100 [==============================] - 5s 50ms/step - loss: 0.4082 - acc: 0.8047 - val_loss: 0.3932 - val_acc: 0.7700\n",
            "Epoch 7/30\n",
            "100/100 [==============================] - 5s 50ms/step - loss: 0.4173 - acc: 0.7992 - val_loss: 0.3308 - val_acc: 0.8200\n",
            "Epoch 8/30\n",
            "100/100 [==============================] - 5s 51ms/step - loss: 0.3985 - acc: 0.8047 - val_loss: 0.3758 - val_acc: 0.8200\n",
            "Epoch 9/30\n",
            "100/100 [==============================] - 5s 51ms/step - loss: 0.3761 - acc: 0.8120 - val_loss: 0.4584 - val_acc: 0.7900\n",
            "Epoch 10/30\n",
            "100/100 [==============================] - 5s 51ms/step - loss: 0.3810 - acc: 0.8137 - val_loss: 0.4781 - val_acc: 0.7400\n",
            "Epoch 11/30\n",
            "100/100 [==============================] - 5s 50ms/step - loss: 0.3835 - acc: 0.8162 - val_loss: 0.4280 - val_acc: 0.7850\n",
            "Epoch 12/30\n",
            "100/100 [==============================] - 5s 50ms/step - loss: 0.3441 - acc: 0.8327 - val_loss: 0.3131 - val_acc: 0.8400\n",
            "Epoch 13/30\n",
            "100/100 [==============================] - 5s 51ms/step - loss: 0.3607 - acc: 0.8285 - val_loss: 0.3926 - val_acc: 0.7950\n",
            "Epoch 14/30\n",
            "100/100 [==============================] - 5s 50ms/step - loss: 0.3388 - acc: 0.8358 - val_loss: 0.3695 - val_acc: 0.8150\n",
            "Epoch 15/30\n",
            "100/100 [==============================] - 5s 50ms/step - loss: 0.3446 - acc: 0.8368 - val_loss: 0.3999 - val_acc: 0.8200\n",
            "Epoch 16/30\n",
            "100/100 [==============================] - 5s 50ms/step - loss: 0.3270 - acc: 0.8378 - val_loss: 0.3017 - val_acc: 0.8450\n",
            "Epoch 17/30\n",
            "100/100 [==============================] - 5s 50ms/step - loss: 0.3261 - acc: 0.8530 - val_loss: 0.4000 - val_acc: 0.8100\n",
            "Epoch 18/30\n",
            "100/100 [==============================] - 5s 50ms/step - loss: 0.3215 - acc: 0.8528 - val_loss: 0.3734 - val_acc: 0.8500\n",
            "Epoch 19/30\n",
            "100/100 [==============================] - 5s 51ms/step - loss: 0.3156 - acc: 0.8548 - val_loss: 0.4347 - val_acc: 0.7700\n",
            "Epoch 20/30\n",
            "100/100 [==============================] - 5s 50ms/step - loss: 0.3124 - acc: 0.8603 - val_loss: 0.3267 - val_acc: 0.8250\n",
            "Epoch 21/30\n",
            "100/100 [==============================] - 5s 50ms/step - loss: 0.3092 - acc: 0.8530 - val_loss: 0.5736 - val_acc: 0.7250\n",
            "Epoch 22/30\n",
            "100/100 [==============================] - 5s 50ms/step - loss: 0.3034 - acc: 0.8578 - val_loss: 0.3163 - val_acc: 0.8250\n",
            "Epoch 23/30\n",
            "100/100 [==============================] - 5s 50ms/step - loss: 0.3025 - acc: 0.8518 - val_loss: 0.3951 - val_acc: 0.8100\n",
            "Epoch 24/30\n",
            "100/100 [==============================] - 5s 50ms/step - loss: 0.2783 - acc: 0.8688 - val_loss: 0.4141 - val_acc: 0.7950\n",
            "Epoch 25/30\n",
            "100/100 [==============================] - 5s 50ms/step - loss: 0.2838 - acc: 0.8720 - val_loss: 0.3929 - val_acc: 0.8350\n",
            "Epoch 26/30\n",
            "100/100 [==============================] - 5s 50ms/step - loss: 0.2797 - acc: 0.8713 - val_loss: 0.3572 - val_acc: 0.8350\n",
            "Epoch 27/30\n",
            "100/100 [==============================] - 5s 50ms/step - loss: 0.2620 - acc: 0.8783 - val_loss: 0.3038 - val_acc: 0.8600\n",
            "Epoch 28/30\n",
            "100/100 [==============================] - 5s 50ms/step - loss: 0.2882 - acc: 0.8573 - val_loss: 0.3556 - val_acc: 0.8250\n",
            "Epoch 29/30\n",
            "100/100 [==============================] - 5s 51ms/step - loss: 0.2567 - acc: 0.8845 - val_loss: 0.3456 - val_acc: 0.8600\n",
            "Epoch 30/30\n",
            "100/100 [==============================] - 5s 50ms/step - loss: 0.2494 - acc: 0.8828 - val_loss: 0.3574 - val_acc: 0.8200\n"
          ],
          "name": "stdout"
        }
      ]
    },
    {
      "cell_type": "code",
      "metadata": {
        "id": "nO4w-kvu2vLT",
        "colab_type": "code",
        "colab": {
          "base_uri": "https://localhost:8080/",
          "height": 545
        },
        "outputId": "4833f341-bf14-4e2f-ac68-af60f81f8983"
      },
      "source": [
        "#model.save('aliensVsPredators_1.h5')\n",
        "\n",
        "import matplotlib.pyplot as plt\n",
        "\n",
        "acc = history.history['acc']\n",
        "val_acc = history.history['val_acc']\n",
        "loss = history.history['loss']\n",
        "val_loss = history.history['val_loss']\n",
        "\n",
        "epochs = range(1, len(acc) + 1)\n",
        "\n",
        "plt.plot(epochs, acc, 'bo', label='Training acc')\n",
        "plt.plot(epochs, val_acc, 'b', label='Validation acc')\n",
        "plt.title('Training and validation accuracy')\n",
        "plt.legend()\n",
        "\n",
        "plt.figure()\n",
        "\n",
        "plt.plot(epochs, loss, 'bo', label='Training loss')\n",
        "plt.plot(epochs, val_loss, 'b', label='Validation loss')\n",
        "plt.title('Training and validation loss')\n",
        "plt.legend()\n",
        "\n",
        "plt.show()"
      ],
      "execution_count": 23,
      "outputs": [
        {
          "output_type": "display_data",
          "data": {
            "image/png": "[encoded data removed]",
            "text/plain": [
              "<Figure size 432x288 with 1 Axes>"
            ]
          },
          "metadata": {
            "tags": []
          }
        },
        {
          "output_type": "display_data",
          "data": {
            "image/png": "[encoded data removed]",
            "text/plain": [
              "<Figure size 432x288 with 1 Axes>"
            ]
          },
          "metadata": {
            "tags": []
          }
        }
      ]
    },
    {
      "cell_type": "markdown",
      "metadata": {
        "id": "VxbOSo5H3ZCm",
        "colab_type": "text"
      },
      "source": [
        "#Convolution layer with dropout"
      ]
    },
    {
      "cell_type": "code",
      "metadata": {
        "id": "EU0J2fvn3WS7",
        "colab_type": "code",
        "colab": {}
      },
      "source": [
        "model = models.Sequential()\n",
        "model.add(layers.Conv2D(32, (3, 3), activation='relu',\n",
        "input_shape=(150, 150, 3)))\n",
        "model.add(layers.MaxPooling2D((2, 2)))\n",
        "model.add(layers.Conv2D(64, (3, 3), activation='relu'))\n",
        "model.add(layers.MaxPooling2D((2, 2)))\n",
        "model.add(layers.Conv2D(128, (3, 3), activation='relu'))\n",
        "model.add(layers.MaxPooling2D((2, 2)))\n",
        "model.add(layers.Conv2D(128, (3, 3), activation='relu'))\n",
        "model.add(layers.MaxPooling2D((2, 2)))\n",
        "model.add(layers.Flatten())\n",
        "model.add(layers.Dropout(0.5))\n",
        "model.add(layers.Dense(512, activation='relu'))\n",
        "model.add(layers.Dense(1, activation='sigmoid'))\n",
        "\n",
        "model.compile(loss='binary_crossentropy',\n",
        "              optimizer=RMSprop(lr=1e-4),\n",
        "              metrics=['acc'])"
      ],
      "execution_count": 0,
      "outputs": []
    },
    {
      "cell_type": "code",
      "metadata": {
        "id": "JW5ekGYV3qno",
        "colab_type": "code",
        "colab": {
          "base_uri": "https://localhost:8080/",
          "height": 731
        },
        "outputId": "77654695-d2a6-46c8-a325-48b30910859c"
      },
      "source": [
        "train_datagen = ImageDataGenerator(rescale=1./255,\n",
        "                                   rotation_range=40,\n",
        "                                   width_shift_range=0.2,\n",
        "                                   height_shift_range=0.2,\n",
        "                                   shear_range=0.2,\n",
        "                                   zoom_range=0.2,\n",
        "                                   horizontal_flip=True,)\n",
        "\n",
        "test_datagen = ImageDataGenerator(rescale=1./255)\n",
        "\n",
        "train_generator = train_datagen.flow_from_directory(train_dir,\n",
        "                                                    target_size=(150, 150),\n",
        "                                                    batch_size=32,\n",
        "                                                    class_mode='binary')\n",
        "\n",
        "test_generator = test_datagen.flow_from_directory(test_dir,\n",
        "                                                        target_size=(150, 150),\n",
        "                                                        batch_size=32,\n",
        "                                                        class_mode='binary')\n",
        "\n",
        "history = model.fit_generator(train_generator,\n",
        "                              steps_per_epoch=100,\n",
        "                              epochs=20,\n",
        "                              validation_data=test_generator,\n",
        "                              validation_steps=50)"
      ],
      "execution_count": 25,
      "outputs": [
        {
          "output_type": "stream",
          "text": [
            "Found 2637 images belonging to 2 classes.\n",
            "Found 660 images belonging to 2 classes.\n",
            "Epoch 1/20\n",
            "100/100 [==============================] - 25s 246ms/step - loss: 0.5858 - acc: 0.6822 - val_loss: 0.4518 - val_acc: 0.7709\n",
            "Epoch 2/20\n",
            "100/100 [==============================] - 25s 249ms/step - loss: 0.4751 - acc: 0.7730 - val_loss: 0.4712 - val_acc: 0.7697\n",
            "Epoch 3/20\n",
            "100/100 [==============================] - 24s 243ms/step - loss: 0.4565 - acc: 0.7686 - val_loss: 0.4006 - val_acc: 0.7980\n",
            "Epoch 4/20\n",
            "100/100 [==============================] - 24s 238ms/step - loss: 0.4348 - acc: 0.7865 - val_loss: 0.4997 - val_acc: 0.7468\n",
            "Epoch 5/20\n",
            "100/100 [==============================] - 24s 237ms/step - loss: 0.4290 - acc: 0.7881 - val_loss: 0.3988 - val_acc: 0.8223\n",
            "Epoch 6/20\n",
            "100/100 [==============================] - 24s 237ms/step - loss: 0.4111 - acc: 0.7994 - val_loss: 0.3762 - val_acc: 0.8395\n",
            "Epoch 7/20\n",
            "100/100 [==============================] - 23s 234ms/step - loss: 0.4168 - acc: 0.7900 - val_loss: 0.3800 - val_acc: 0.8331\n",
            "Epoch 8/20\n",
            "100/100 [==============================] - 24s 236ms/step - loss: 0.3966 - acc: 0.8082 - val_loss: 0.3910 - val_acc: 0.8065\n",
            "Epoch 9/20\n",
            "100/100 [==============================] - 24s 236ms/step - loss: 0.3897 - acc: 0.8167 - val_loss: 0.4592 - val_acc: 0.7678\n",
            "Epoch 10/20\n",
            "100/100 [==============================] - 24s 237ms/step - loss: 0.3857 - acc: 0.8178 - val_loss: 0.3810 - val_acc: 0.8248\n",
            "Epoch 11/20\n",
            "100/100 [==============================] - 24s 238ms/step - loss: 0.3804 - acc: 0.8161 - val_loss: 0.3730 - val_acc: 0.8103\n",
            "Epoch 12/20\n",
            "100/100 [==============================] - 24s 240ms/step - loss: 0.3879 - acc: 0.8126 - val_loss: 0.4166 - val_acc: 0.7992\n",
            "Epoch 13/20\n",
            "100/100 [==============================] - 24s 241ms/step - loss: 0.3781 - acc: 0.8180 - val_loss: 0.3763 - val_acc: 0.8223\n",
            "Epoch 14/20\n",
            "100/100 [==============================] - 25s 249ms/step - loss: 0.3782 - acc: 0.8192 - val_loss: 0.3511 - val_acc: 0.8261\n",
            "Epoch 15/20\n",
            "100/100 [==============================] - 25s 249ms/step - loss: 0.3577 - acc: 0.8235 - val_loss: 0.3520 - val_acc: 0.8319\n",
            "Epoch 16/20\n",
            "100/100 [==============================] - 25s 249ms/step - loss: 0.3507 - acc: 0.8290 - val_loss: 0.3395 - val_acc: 0.8369\n",
            "Epoch 17/20\n",
            "100/100 [==============================] - 24s 244ms/step - loss: 0.3714 - acc: 0.8158 - val_loss: 0.3625 - val_acc: 0.8350\n",
            "Epoch 18/20\n",
            "100/100 [==============================] - 25s 251ms/step - loss: 0.3648 - acc: 0.8252 - val_loss: 0.3227 - val_acc: 0.8509\n",
            "Epoch 19/20\n",
            "100/100 [==============================] - 25s 248ms/step - loss: 0.3532 - acc: 0.8233 - val_loss: 0.3431 - val_acc: 0.8382\n",
            "Epoch 20/20\n",
            "100/100 [==============================] - 25s 250ms/step - loss: 0.3621 - acc: 0.8280 - val_loss: 0.3523 - val_acc: 0.8344\n"
          ],
          "name": "stdout"
        }
      ]
    },
    {
      "cell_type": "code",
      "metadata": {
        "id": "0jeqVjDE37D6",
        "colab_type": "code",
        "colab": {
          "base_uri": "https://localhost:8080/",
          "height": 545
        },
        "outputId": "d2653fe5-a82c-40db-8ee3-e7e33d7e76f4"
      },
      "source": [
        "acc = history.history['acc']\n",
        "val_acc = history.history['val_acc']\n",
        "loss = history.history['loss']\n",
        "val_loss = history.history['val_loss']\n",
        "\n",
        "epochs = range(1, len(acc) + 1)\n",
        "\n",
        "plt.plot(epochs, acc, 'bo', label='Training acc')\n",
        "plt.plot(epochs, val_acc, 'b', label='Validation acc')\n",
        "plt.title('Training and validation accuracy')\n",
        "plt.legend()\n",
        "\n",
        "plt.figure()\n",
        "\n",
        "plt.plot(epochs, loss, 'bo', label='Training loss')\n",
        "plt.plot(epochs, val_loss, 'b', label='Validation loss')\n",
        "plt.title('Training and validation loss')\n",
        "plt.legend()\n",
        "\n",
        "plt.show()"
      ],
      "execution_count": 26,
      "outputs": [
        {
          "output_type": "display_data",
          "data": {
            "image/png": "[encoded data removed]",
            "text/plain": [
              "<Figure size 432x288 with 1 Axes>"
            ]
          },
          "metadata": {
            "tags": []
          }
        },
        {
          "output_type": "display_data",
          "data": {
            "image/png": "[encoded data removed]",
            "text/plain": [
              "<Figure size 432x288 with 1 Axes>"
            ]
          },
          "metadata": {
            "tags": []
          }
        }
      ]
    }
  ]
}