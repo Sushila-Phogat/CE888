{
  "nbformat": 4,
  "nbformat_minor": 0,
  "metadata": {
    "colab": {
      "name": "Untitled3.ipynb",
      "provenance": [],
      "collapsed_sections": [],
      "authorship_tag": "ABX9TyPS4yxpNobOL+SiOpW5skk0",
      "include_colab_link": true
    },
    "kernelspec": {
      "name": "python3",
      "display_name": "Python 3"
    }
  },
  "cells": [
    {
      "cell_type": "markdown",
      "metadata": {
        "id": "view-in-github",
        "colab_type": "text"
      },
      "source": [
        "<a href=\"https://colab.research.google.com/github/Sushila-Phogat/CE888/blob/master/Lab2.ipynb\" target=\"_parent\"><img src=\"https://colab.research.google.com/assets/colab-badge.svg\" alt=\"Open In Colab\"/></a>"
      ]
    },
    {
      "cell_type": "markdown",
      "metadata": {
        "id": "YnC-nzeo4hJO",
        "colab_type": "text"
      },
      "source": [
        "#The bootstrap Function\n"
      ]
    },
    {
      "cell_type": "code",
      "metadata": {
        "id": "Er6sMYNw4OW-",
        "colab_type": "code",
        "colab": {}
      },
      "source": [
        "import matplotlib.pyplot as plt\n",
        "import pandas as pd\n",
        "import seaborn as sns\n",
        "import numpy as np\n",
        "from scipy import stats\n",
        "import math\n",
        "import random\n",
        "from array import *"
      ],
      "execution_count": 0,
      "outputs": []
    },
    {
      "cell_type": "code",
      "metadata": {
        "id": "x_ZgR5Oq5mWK",
        "colab_type": "code",
        "outputId": "eeeb27b0-c567-4287-caf6-be5ad1c41752",
        "colab": {
          "base_uri": "https://localhost:8080/",
          "height": 34
        }
      },
      "source": [
        "# Load the customer data\n",
        "df = pd.read_csv('https://raw.githubusercontent.com/albanda/CE888/master/lab2%20-%20bootstrap/customers.csv')\n",
        "data = df.values.T[1]\n",
        "data.shape[0]"
      ],
      "execution_count": 40,
      "outputs": [
        {
          "output_type": "execute_result",
          "data": {
            "text/plain": [
              "14"
            ]
          },
          "metadata": {
            "tags": []
          },
          "execution_count": 40
        }
      ]
    },
    {
      "cell_type": "code",
      "metadata": {
        "id": "WQNNwwYw5_2N",
        "colab_type": "code",
        "colab": {}
      },
      "source": [
        "# Checking the notes from the lecture, create here your own bootstrap function:\n",
        "# 1. Create an array of samples of shape (n_iterations, sample_size)\n",
        "# 2. Calculate and save the mean of the array (this is \"data_mean\" that is returned by the function)\n",
        "# 3. In each iteration:\n",
        "# 3.1 Get the data corresponding to that iteration (new_samples[iteration, :])\n",
        "# 3.2 Calculate the mean of the iteration data and store it\n",
        "# (At this point you should have an array of n_iterations values)\n",
        "# 4. Calculate the lower and upper bounds for a 95% CI (hint: check the percentile function on Numpy)\n",
        "# 5. Return data_mean, and the lower and upper bounds of your interval\n",
        "\n",
        "meant=[]\n",
        "\n",
        "def boostrap_mean(data, size, n_iterations):\n",
        "\tfor i in range(n_iterations):\n",
        "\t\tdata2=random.choices(data,k=size)\n",
        "\t\tmean_val = np.mean(data2)\n",
        "\t\tmeant.append(mean_val)\n",
        "\tmeant2=sorted(meant,key=float)\n",
        "\tlower=np.percentile(meant2,2.5)\n",
        "\tupper=np.percentile(meant2,97.5)\n",
        "\tdata_mean=np.mean(meant2)\n",
        "\treturn data_mean, lower, upper\n",
        "\n"
      ],
      "execution_count": 0,
      "outputs": []
    },
    {
      "cell_type": "code",
      "metadata": {
        "id": "gPiWIG4A5_-1",
        "colab_type": "code",
        "outputId": "60911a43-59d0-47a1-c7a0-c973c4e54a64",
        "colab": {
          "base_uri": "https://localhost:8080/",
          "height": 386
        }
      },
      "source": [
        "\n",
        "# Call your bootstrap function and plot the results\n",
        "\n",
        "boots = []\n",
        "for i in range(100, 100000, 1000):\n",
        "    boot = boostrap_mean(data, data.shape[0], i)\n",
        "    boots.append([i, boot[0], \"mean\"])\n",
        "    boots.append([i, boot[1], \"lower\"])\n",
        "    boots.append([i, boot[2], \"upper\"])\n",
        "\n",
        "df_boot = pd.DataFrame(boots, columns=['Boostrap Iterations', 'Mean', \"Value\"])\n",
        "sns_plot = sns.lmplot(df_boot.columns[0], df_boot.columns[1], data=df_boot, fit_reg=False, hue=\"Value\")\n",
        "\n",
        "sns_plot.axes[0, 0].set_ylim(0,)\n",
        "sns_plot.axes[0, 0].set_xlim(0, 100000)\n",
        "\n",
        "#sns_plot.savefig(\"bootstrap_confidence.png\", bbox_inches='tight')\n",
        "#sns_plot.savefig(\"bootstrap_confidence.pdf\", bbox_inches='tight')"
      ],
      "execution_count": 42,
      "outputs": [
        {
          "output_type": "execute_result",
          "data": {
            "text/plain": [
              "(0, 100000)"
            ]
          },
          "metadata": {
            "tags": []
          },
          "execution_count": 42
        },
        {
          "output_type": "display_data",
          "data": {
            "image/png": "[encoded data removed]",
            "text/plain": [
              "<Figure size 425.125x360 with 1 Axes>"
            ]
          },
          "metadata": {
            "tags": []
          }
        }
      ]
    },
    {
      "cell_type": "code",
      "metadata": {
        "id": "5blW1xFowvpa",
        "colab_type": "code",
        "colab": {}
      },
      "source": [
        "#Create bootstrap function with generalising confidence interval value\n",
        "\n",
        "meant=[]\n",
        "\n",
        "def boostrap_mean_ci(sample, sample_size, iterations, ci):\n",
        "\tfor i in range(iterations):\n",
        "\t\tdata2=random.choices(data,k=sample_size)\n",
        "\t\tmean_val = np.mean(data2)\n",
        "\t\tmeant.append(mean_val)\n",
        "\tmeant2=sorted(meant,key=float)\n",
        "\tlower=np.percentile(meant2,((100-ci)/2.0))\n",
        "\tupper=np.percentile(meant2,(ci+((100-ci)/2.0)))\n",
        "\tdata_mean=np.mean(meant2)\n",
        "\treturn data_mean, lower, upper"
      ],
      "execution_count": 0,
      "outputs": []
    },
    {
      "cell_type": "code",
      "metadata": {
        "id": "KGnai9LjybSY",
        "colab_type": "code",
        "outputId": "3f15ee11-2a50-4228-e873-84fe8087c6fa",
        "colab": {
          "base_uri": "https://localhost:8080/",
          "height": 369
        }
      },
      "source": [
        "#CreaCallingte bootstrap function with generalising confidence interval as armunet value\n",
        "boots = []\n",
        "for i in range(100, 100000, 1000):\n",
        "    boot = boostrap_mean_ci(data, data.shape[0], i, 80)\n",
        "    boots.append([i, boot[0], \"mean\"])\n",
        "    boots.append([i, boot[1], \"lower\"])\n",
        "    boots.append([i, boot[2], \"upper\"])\n",
        "\n",
        "df_boot = pd.DataFrame(boots, columns=['Boostrap Iterations', 'Mean', \"Value\"])\n",
        "sns_plot = sns.lmplot(df_boot.columns[0], df_boot.columns[1], data=df_boot, fit_reg=False, hue=\"Value\")\n",
        "\n",
        "sns_plot.axes[0, 0].set_ylim(0,)\n",
        "sns_plot.axes[0, 0].set_xlim(0, 100000)\n",
        "\n",
        "sns_plot.savefig(\"bootstrap_confidence_80.png\", bbox_inches='tight')\n",
        "sns_plot.savefig(\"bootstrap_confidence_80.pdf\", bbox_inches='tight')"
      ],
      "execution_count": 0,
      "outputs": [
        {
          "output_type": "display_data",
          "data": {
            "image/png": "[encoded data removed]",
            "text/plain": [
              "<Figure size 425.125x360 with 1 Axes>"
            ]
          },
          "metadata": {
            "tags": []
          }
        }
      ]
    },
    {
      "cell_type": "markdown",
      "metadata": {
        "id": "xRYrm4-i4tUV",
        "colab_type": "text"
      },
      "source": [
        "#Data visualisation with Vehicle  Data"
      ]
    },
    {
      "cell_type": "code",
      "metadata": {
        "id": "S_v5xbAwyqZ9",
        "colab_type": "code",
        "outputId": "8cd272b8-595d-4392-9532-f3c8054c2bde",
        "colab": {
          "base_uri": "https://localhost:8080/",
          "height": 419
        }
      },
      "source": [
        "# Load the vehicle data\n",
        "df = pd.read_csv('https://raw.githubusercontent.com/albanda/CE888/master/lab2%20-%20bootstrap/vehicles.csv')\n",
        "df"
      ],
      "execution_count": 15,
      "outputs": [
        {
          "output_type": "execute_result",
          "data": {
            "text/html": [
              "<div>\n",
              "<style scoped>\n",
              "    .dataframe tbody tr th:only-of-type {\n",
              "        vertical-align: middle;\n",
              "    }\n",
              "\n",
              "    .dataframe tbody tr th {\n",
              "        vertical-align: top;\n",
              "    }\n",
              "\n",
              "    .dataframe thead th {\n",
              "        text-align: right;\n",
              "    }\n",
              "</style>\n",
              "<table border=\"1\" class=\"dataframe\">\n",
              "  <thead>\n",
              "    <tr style=\"text-align: right;\">\n",
              "      <th></th>\n",
              "      <th>Current fleet</th>\n",
              "      <th>New Fleet</th>\n",
              "    </tr>\n",
              "  </thead>\n",
              "  <tbody>\n",
              "    <tr>\n",
              "      <th>0</th>\n",
              "      <td>18</td>\n",
              "      <td>24.0</td>\n",
              "    </tr>\n",
              "    <tr>\n",
              "      <th>1</th>\n",
              "      <td>15</td>\n",
              "      <td>27.0</td>\n",
              "    </tr>\n",
              "    <tr>\n",
              "      <th>2</th>\n",
              "      <td>18</td>\n",
              "      <td>27.0</td>\n",
              "    </tr>\n",
              "    <tr>\n",
              "      <th>3</th>\n",
              "      <td>16</td>\n",
              "      <td>25.0</td>\n",
              "    </tr>\n",
              "    <tr>\n",
              "      <th>4</th>\n",
              "      <td>17</td>\n",
              "      <td>31.0</td>\n",
              "    </tr>\n",
              "    <tr>\n",
              "      <th>...</th>\n",
              "      <td>...</td>\n",
              "      <td>...</td>\n",
              "    </tr>\n",
              "    <tr>\n",
              "      <th>244</th>\n",
              "      <td>27</td>\n",
              "      <td>NaN</td>\n",
              "    </tr>\n",
              "    <tr>\n",
              "      <th>245</th>\n",
              "      <td>27</td>\n",
              "      <td>NaN</td>\n",
              "    </tr>\n",
              "    <tr>\n",
              "      <th>246</th>\n",
              "      <td>32</td>\n",
              "      <td>NaN</td>\n",
              "    </tr>\n",
              "    <tr>\n",
              "      <th>247</th>\n",
              "      <td>28</td>\n",
              "      <td>NaN</td>\n",
              "    </tr>\n",
              "    <tr>\n",
              "      <th>248</th>\n",
              "      <td>31</td>\n",
              "      <td>NaN</td>\n",
              "    </tr>\n",
              "  </tbody>\n",
              "</table>\n",
              "<p>249 rows × 2 columns</p>\n",
              "</div>"
            ],
            "text/plain": [
              "     Current fleet  New Fleet\n",
              "0               18       24.0\n",
              "1               15       27.0\n",
              "2               18       27.0\n",
              "3               16       25.0\n",
              "4               17       31.0\n",
              "..             ...        ...\n",
              "244             27        NaN\n",
              "245             27        NaN\n",
              "246             32        NaN\n",
              "247             28        NaN\n",
              "248             31        NaN\n",
              "\n",
              "[249 rows x 2 columns]"
            ]
          },
          "metadata": {
            "tags": []
          },
          "execution_count": 15
        }
      ]
    },
    {
      "cell_type": "code",
      "metadata": {
        "id": "dH7Lxju4ERHt",
        "colab_type": "code",
        "outputId": "5183bffe-060d-40c9-f2b9-125df759ceaa",
        "colab": {
          "base_uri": "https://localhost:8080/",
          "height": 295
        }
      },
      "source": [
        "#Histogram for Current Fleet\n",
        "plt.hist(np.nan_to_num(df['Current fleet']),bins='auto')\n",
        "plt.title('Current fleet Histogram')\n",
        "plt.ylabel('Count of Current fleet Values')\n",
        "plt.xlabel('Current fleet Values')\n",
        "plt.show()"
      ],
      "execution_count": 0,
      "outputs": [
        {
          "output_type": "display_data",
          "data": {
            "image/png": "[encoded data removed]",
            "text/plain": [
              "<Figure size 432x288 with 1 Axes>"
            ]
          },
          "metadata": {
            "tags": []
          }
        }
      ]
    },
    {
      "cell_type": "markdown",
      "metadata": {
        "id": "ayHswzNY5DGE",
        "colab_type": "text"
      },
      "source": [
        "Scatter plot for Current and New Fleet"
      ]
    },
    {
      "cell_type": "code",
      "metadata": {
        "id": "JpQn_uAJj65W",
        "colab_type": "code",
        "outputId": "371d9d8c-96d1-41c9-e826-b79567ab5c27",
        "colab": {
          "base_uri": "https://localhost:8080/",
          "height": 386
        }
      },
      "source": [
        "sns.lmplot(df.columns[0], df.columns[1], data=df, fit_reg=False ) # Scatterplot\n"
      ],
      "execution_count": 0,
      "outputs": [
        {
          "output_type": "execute_result",
          "data": {
            "text/plain": [
              "<seaborn.axisgrid.FacetGrid at 0x7f9d287025f8>"
            ]
          },
          "metadata": {
            "tags": []
          },
          "execution_count": 70
        },
        {
          "output_type": "display_data",
          "data": {
            "image/png": "[encoded data removed]",
            "text/plain": [
              "<Figure size 360x360 with 1 Axes>"
            ]
          },
          "metadata": {
            "tags": []
          }
        }
      ]
    },
    {
      "cell_type": "code",
      "metadata": {
        "id": "ViyCb9jgayKE",
        "colab_type": "code",
        "outputId": "53e9ed50-78b3-435c-aa11-90e0fbb9e37d",
        "colab": {
          "base_uri": "https://localhost:8080/",
          "height": 295
        }
      },
      "source": [
        "#Histogram for New Fleet\n",
        "df2=df.dropna()\n",
        "plt.hist(np.nan_to_num(df2['New Fleet']),bins='auto')\n",
        "plt.title('New Fleet Histogram')\n",
        "plt.ylabel('Count of New Fleet Values')\n",
        "plt.xlabel('New Fleet Values')\n",
        "plt.show()"
      ],
      "execution_count": 0,
      "outputs": [
        {
          "output_type": "display_data",
          "data": {
            "image/png": "[encoded data removed]",
            "text/plain": [
              "<Figure size 432x288 with 1 Axes>"
            ]
          },
          "metadata": {
            "tags": []
          }
        }
      ]
    },
    {
      "cell_type": "code",
      "metadata": {
        "id": "wn70xiVXngfA",
        "colab_type": "code",
        "outputId": "d7d62d1b-be74-4fde-ca42-5c7c095cd93b",
        "colab": {
          "base_uri": "https://localhost:8080/",
          "height": 34
        }
      },
      "source": [
        "#Mean for Current and New Fleet by normal method\n",
        "Oldfltmean=np.mean(df['Current fleet'])\n",
        "Newfltmean=np.mean(df['New Fleet'])\n",
        "print(\"Old fleet mean :\",Oldfltmean,\"New fleet Mean :\",Newfltmean)"
      ],
      "execution_count": 0,
      "outputs": [
        {
          "output_type": "stream",
          "text": [
            "Old fleet mean : 20.14457831325301 New fleet Mean : 30.481012658227847\n"
          ],
          "name": "stdout"
        }
      ]
    },
    {
      "cell_type": "code",
      "metadata": {
        "id": "BfKQK4tnsAwV",
        "colab_type": "code",
        "colab": {
          "base_uri": "https://localhost:8080/",
          "height": 54
        },
        "outputId": "ad0e4cbf-9489-48a4-f02d-78a965942bf9"
      },
      "source": [
        "#Calling Bootsrap function for mean,lower and upper bound for current fleet\n",
        "boots = []\n",
        "df=df.dropna()\n",
        "df=df['Current fleet']\n",
        "for i in range(100, 100000, 1000):\n",
        "    boot = boostrap_mean(df, df.shape[0], i)\n",
        "    boots.append([i, boot[0], \"mean\"])\n",
        "    boots.append([i, boot[1], \"lower\"])\n",
        "    boots.append([i, boot[2], \"upper\"])"
      ],
      "execution_count": 18,
      "outputs": [
        {
          "output_type": "stream",
          "text": [
            "[[100, 16.088860759493674, 'mean'], [100, 15.237974683544303, 'lower'], [100, 16.81803797468354, 'upper'], [1100, 16.03198312236287, 'mean'], [1100, 15.075949367088608, 'lower'], [1100, 16.9623417721519, 'upper'], [2100, 16.01573072497123, 'mean'], [2100, 15.126582278481013, 'lower'], [2100, 16.93069620253165, 'upper'], [3100, 16.017553401898734, 'mean'], [3100, 15.126582278481013, 'lower'], [3100, 16.924050632911392, 'upper'], [4100, 16.020460518384567, 'mean'], [4100, 15.139240506329115, 'lower'], [4100, 16.949367088607595, 'upper'], [5100, 16.021308016877637, 'mean'], [5100, 15.126582278481013, 'lower'], [5100, 16.949367088607595, 'upper'], [6100, 16.02203231639736, 'mean'], [6100, 15.126582278481013, 'lower'], [6100, 16.962025316455698, 'upper'], [7100, 16.022838431786216, 'mean'], [7100, 15.126582278481013, 'lower'], [7100, 16.962025316455698, 'upper'], [8100, 16.02377928715996, 'mean'], [8100, 15.126582278481013, 'lower'], [8100, 16.962025316455698, 'upper'], [9100, 16.022782058337917, 'mean'], [9100, 15.126582278481013, 'lower'], [9100, 16.962025316455698, 'upper'], [10100, 16.022845280805075, 'mean'], [10100, 15.126582278481013, 'lower'], [10100, 16.962025316455698, 'upper'], [11100, 16.022102358348402, 'mean'], [11100, 15.126582278481013, 'lower'], [11100, 16.962025316455698, 'upper'], [12100, 16.021809344421918, 'mean'], [12100, 15.126582278481013, 'lower'], [12100, 16.974683544303797, 'upper'], [13100, 16.02260288234972, 'mean'], [13100, 15.126582278481013, 'lower'], [13100, 16.962025316455698, 'upper'], [14100, 16.023011707375055, 'mean'], [14100, 15.139240506329115, 'lower'], [14100, 16.974683544303797, 'upper'], [15100, 16.02334526982012, 'mean'], [15100, 15.126582278481013, 'lower'], [15100, 16.974683544303797, 'upper'], [16100, 16.023356131013117, 'mean'], [16100, 15.126582278481013, 'lower'], [16100, 16.974683544303797, 'upper'], [17100, 16.02326652601969, 'mean'], [17100, 15.126582278481013, 'lower'], [17100, 16.974683544303797, 'upper'], [18100, 16.023700024159716, 'mean'], [18100, 15.126582278481013, 'lower'], [18100, 16.974683544303797, 'upper'], [19100, 16.02412269251055, 'mean'], [19100, 15.139240506329115, 'lower'], [19100, 16.974683544303797, 'upper'], [20100, 16.02387982740408, 'mean'], [20100, 15.139240506329115, 'lower'], [20100, 16.974683544303797, 'upper'], [21100, 16.02444237575179, 'mean'], [21100, 15.139240506329115, 'lower'], [21100, 16.974683544303797, 'upper'], [22100, 16.024814787269385, 'mean'], [22100, 15.139240506329115, 'lower'], [22100, 16.962025316455698, 'upper'], [23100, 16.02497149170668, 'mean'], [23100, 15.139240506329115, 'lower'], [23100, 16.962025316455698, 'upper'], [24100, 16.02519108693378, 'mean'], [24100, 15.139240506329115, 'lower'], [24100, 16.962025316455698, 'upper'], [25100, 16.02534234401323, 'mean'], [25100, 15.139240506329115, 'lower'], [25100, 16.974683544303797, 'upper'], [26100, 16.025633251378736, 'mean'], [26100, 15.139240506329115, 'lower'], [26100, 16.962025316455698, 'upper'], [27100, 16.025916391873206, 'mean'], [27100, 15.139240506329115, 'lower'], [27100, 16.974683544303797, 'upper'], [28100, 16.025903272441344, 'mean'], [28100, 15.139240506329115, 'lower'], [28100, 16.974683544303797, 'upper'], [29100, 16.025746604242528, 'mean'], [29100, 15.139240506329115, 'lower'], [29100, 16.974683544303797, 'upper'], [30100, 16.025705721216124, 'mean'], [30100, 15.139240506329115, 'lower'], [30100, 16.974683544303797, 'upper'], [31100, 16.025645412406682, 'mean'], [31100, 15.139240506329115, 'lower'], [31100, 16.974683544303797, 'upper'], [32100, 16.02567304462186, 'mean'], [32100, 15.139240506329115, 'lower'], [32100, 16.974683544303797, 'upper'], [33100, 16.02586243709013, 'mean'], [33100, 15.139240506329115, 'lower'], [33100, 16.974683544303797, 'upper'], [34100, 16.02571405306515, 'mean'], [34100, 15.139240506329115, 'lower'], [34100, 16.974683544303797, 'upper'], [35100, 16.02585269227081, 'mean'], [35100, 15.139240506329115, 'lower'], [35100, 16.974683544303797, 'upper'], [36100, 16.026027372921558, 'mean'], [36100, 15.139240506329115, 'lower'], [36100, 16.974683544303797, 'upper'], [37100, 16.025911883117356, 'mean'], [37100, 15.139240506329115, 'lower'], [37100, 16.974683544303797, 'upper'], [38100, 16.02578779583021, 'mean'], [38100, 15.139240506329115, 'lower'], [38100, 16.974683544303797, 'upper'], [39100, 16.02561468289848, 'mean'], [39100, 15.139240506329115, 'lower'], [39100, 16.974683544303797, 'upper'], [40100, 16.025671780031605, 'mean'], [40100, 15.139240506329115, 'lower'], [40100, 16.974683544303797, 'upper'], [41100, 16.02593084499377, 'mean'], [41100, 15.139240506329115, 'lower'], [41100, 16.974683544303797, 'upper'], [42100, 16.025845511860897, 'mean'], [42100, 15.139240506329115, 'lower'], [42100, 16.974683544303797, 'upper'], [43100, 16.025769109875124, 'mean'], [43100, 15.139240506329115, 'lower'], [43100, 16.974683544303797, 'upper'], [44100, 16.025645467794384, 'mean'], [44100, 15.139240506329115, 'lower'], [44100, 16.974683544303797, 'upper'], [45100, 16.02560693986489, 'mean'], [45100, 15.139240506329115, 'lower'], [45100, 16.974683544303797, 'upper'], [46100, 16.02558064971208, 'mean'], [46100, 15.139240506329115, 'lower'], [46100, 16.974683544303797, 'upper'], [47100, 16.02550793821069, 'mean'], [47100, 15.139240506329115, 'lower'], [47100, 16.974683544303797, 'upper'], [48100, 16.025476395926297, 'mean'], [48100, 15.139240506329115, 'lower'], [48100, 16.974683544303797, 'upper'], [49100, 16.025377390141, 'mean'], [49100, 15.139240506329115, 'lower'], [49100, 16.974683544303797, 'upper'], [50100, 16.025446449496133, 'mean'], [50100, 15.139240506329115, 'lower'], [50100, 16.974683544303797, 'upper'], [51100, 16.025407683939875, 'mean'], [51100, 15.139240506329115, 'lower'], [51100, 16.974683544303797, 'upper'], [52100, 16.025440100585012, 'mean'], [52100, 15.139240506329115, 'lower'], [52100, 16.974683544303797, 'upper'], [53100, 16.0254976928961, 'mean'], [53100, 15.139240506329115, 'lower'], [53100, 16.974683544303797, 'upper'], [54100, 16.025452388332862, 'mean'], [54100, 15.139240506329115, 'lower'], [54100, 16.974683544303797, 'upper'], [55100, 16.025454929632836, 'mean'], [55100, 15.139240506329115, 'lower'], [55100, 16.974683544303797, 'upper'], [56100, 16.025392972498356, 'mean'], [56100, 15.139240506329115, 'lower'], [56100, 16.974683544303797, 'upper'], [57100, 16.02535966979333, 'mean'], [57100, 15.139240506329115, 'lower'], [57100, 16.974683544303797, 'upper'], [58100, 16.025404331179764, 'mean'], [58100, 15.139240506329115, 'lower'], [58100, 16.974683544303797, 'upper'], [59100, 16.02547088465047, 'mean'], [59100, 15.139240506329115, 'lower'], [59100, 16.974683544303797, 'upper'], [60100, 16.025451779673347, 'mean'], [60100, 15.139240506329115, 'lower'], [60100, 16.974683544303797, 'upper'], [61100, 16.02550356020998, 'mean'], [61100, 15.139240506329115, 'lower'], [61100, 16.974683544303797, 'upper'], [62100, 16.02545548106498, 'mean'], [62100, 15.139240506329115, 'lower'], [62100, 16.974683544303797, 'upper'], [63100, 16.025422458340007, 'mean'], [63100, 15.139240506329115, 'lower'], [63100, 16.974683544303797, 'upper'], [64100, 16.02536997637009, 'mean'], [64100, 15.139240506329115, 'lower'], [64100, 16.974683544303797, 'upper'], [65100, 16.025274626359895, 'mean'], [65100, 15.139240506329115, 'lower'], [65100, 16.974683544303797, 'upper'], [66100, 16.02525062172407, 'mean'], [66100, 15.139240506329115, 'lower'], [66100, 16.974683544303797, 'upper'], [67100, 16.02519130278693, 'mean'], [67100, 15.139240506329115, 'lower'], [67100, 16.974683544303797, 'upper'], [68100, 16.02527839870109, 'mean'], [68100, 15.139240506329115, 'lower'], [68100, 16.974683544303797, 'upper'], [69100, 16.02528138686511, 'mean'], [69100, 15.139240506329115, 'lower'], [69100, 16.974683544303797, 'upper'], [70100, 16.02522648531383, 'mean'], [70100, 15.139240506329115, 'lower'], [70100, 16.974683544303797, 'upper'], [71100, 16.025287313919307, 'mean'], [71100, 15.139240506329115, 'lower'], [71100, 16.974683544303797, 'upper'], [72100, 16.025344300627268, 'mean'], [72100, 15.139240506329115, 'lower'], [72100, 16.974683544303797, 'upper'], [73100, 16.025372521307357, 'mean'], [73100, 15.126582278481013, 'lower'], [73100, 16.974683544303797, 'upper'], [74100, 16.025315655032013, 'mean'], [74100, 15.126582278481013, 'lower'], [74100, 16.974683544303797, 'upper'], [75100, 16.025279481232378, 'mean'], [75100, 15.126582278481013, 'lower'], [75100, 16.974683544303797, 'upper'], [76100, 16.025307222097837, 'mean'], [76100, 15.126582278481013, 'lower'], [76100, 16.974683544303797, 'upper'], [77100, 16.025318116384415, 'mean'], [77100, 15.126582278481013, 'lower'], [77100, 16.974683544303797, 'upper'], [78100, 16.02530493219701, 'mean'], [78100, 15.126582278481013, 'lower'], [78100, 16.974683544303797, 'upper'], [79100, 16.025255290244232, 'mean'], [79100, 15.126582278481013, 'lower'], [79100, 16.974683544303797, 'upper'], [80100, 16.02524763259847, 'mean'], [80100, 15.126582278481013, 'lower'], [80100, 16.974683544303797, 'upper'], [81100, 16.025250183645447, 'mean'], [81100, 15.126582278481013, 'lower'], [81100, 16.974683544303797, 'upper'], [82100, 16.025295879999724, 'mean'], [82100, 15.126582278481013, 'lower'], [82100, 16.974683544303797, 'upper'], [83100, 16.025249915235083, 'mean'], [83100, 15.126582278481013, 'lower'], [83100, 16.974683544303797, 'upper'], [84100, 16.025265309876307, 'mean'], [84100, 15.126582278481013, 'lower'], [84100, 16.974683544303797, 'upper'], [85100, 16.025255099431828, 'mean'], [85100, 15.126582278481013, 'lower'], [85100, 16.974683544303797, 'upper'], [86100, 16.025264802618786, 'mean'], [86100, 15.126582278481013, 'lower'], [86100, 16.974683544303797, 'upper'], [87100, 16.025252362860385, 'mean'], [87100, 15.126582278481013, 'lower'], [87100, 16.974683544303797, 'upper'], [88100, 16.02530848645339, 'mean'], [88100, 15.126582278481013, 'lower'], [88100, 16.974683544303797, 'upper'], [89100, 16.02529811167242, 'mean'], [89100, 15.126582278481013, 'lower'], [89100, 16.974683544303797, 'upper'], [90100, 16.025255639698354, 'mean'], [90100, 15.126582278481013, 'lower'], [90100, 16.974683544303797, 'upper'], [91100, 16.02525617583446, 'mean'], [91100, 15.126582278481013, 'lower'], [91100, 16.974683544303797, 'upper'], [92100, 16.025246995320565, 'mean'], [92100, 15.126582278481013, 'lower'], [92100, 16.974683544303797, 'upper'], [93100, 16.025335319934932, 'mean'], [93100, 15.126582278481013, 'lower'], [93100, 16.974683544303797, 'upper'], [94100, 16.025366299324844, 'mean'], [94100, 15.126582278481013, 'lower'], [94100, 16.974683544303797, 'upper'], [95100, 16.0253966748883, 'mean'], [95100, 15.126582278481013, 'lower'], [95100, 16.974683544303797, 'upper'], [96100, 16.025411558578732, 'mean'], [96100, 15.126582278481013, 'lower'], [96100, 16.974683544303797, 'upper'], [97100, 16.025405478959843, 'mean'], [97100, 15.126582278481013, 'lower'], [97100, 16.974683544303797, 'upper'], [98100, 16.025400185046756, 'mean'], [98100, 15.126582278481013, 'lower'], [98100, 16.974683544303797, 'upper'], [99100, 16.025413377909388, 'mean'], [99100, 15.126582278481013, 'lower'], [99100, 16.974683544303797, 'upper']]\n"
          ],
          "name": "stdout"
        }
      ]
    },
    {
      "cell_type": "code",
      "metadata": {
        "id": "QdIAZnd7pvbV",
        "colab_type": "code",
        "outputId": "293eb716-6cde-4cc4-81fc-429463143921",
        "colab": {
          "base_uri": "https://localhost:8080/",
          "height": 34
        }
      },
      "source": [
        "#mean for current fleet\n",
        "currmn=[]\n",
        "for i in range(len(boots[:])):\n",
        "  if  boots[i][2]=='mean':\n",
        "    currmn.append(boots[i][1])\n",
        "curmean=np.mean(currmn)\n",
        "print('Mean for Current fleet:', curmean)"
      ],
      "execution_count": 35,
      "outputs": [
        {
          "output_type": "stream",
          "text": [
            "Mean for Current fleet: 16.02550532914701\n"
          ],
          "name": "stdout"
        }
      ]
    },
    {
      "cell_type": "code",
      "metadata": {
        "id": "O0T1wRev86DH",
        "colab_type": "code",
        "colab": {}
      },
      "source": [
        "#Calling Bootsrap function for mean,lower and upper bound for New fleet\n",
        "## Load the vehicle data\n",
        "df = pd.read_csv('https://raw.githubusercontent.com/albanda/CE888/master/lab2%20-%20bootstrap/vehicles.csv')\n",
        "boots2 = []\n",
        "df=df.dropna()\n",
        "df=df['New Fleet']\n",
        "\n",
        "for i in range(100, 100000, 1000):\n",
        "    boot = boostrap_mean(df, df.shape[0], i)\n",
        "    boots2.append([i, boot[0], \"mean\"])\n",
        "    boots2.append([i, boot[1], \"lower\"])\n",
        "    boots2.append([i, boot[2], \"upper\"])"
      ],
      "execution_count": 0,
      "outputs": []
    },
    {
      "cell_type": "code",
      "metadata": {
        "id": "H6BUalm89Zo4",
        "colab_type": "code",
        "colab": {
          "base_uri": "https://localhost:8080/",
          "height": 34
        },
        "outputId": "9bb1d272-1955-4d7c-9f0e-2e9713e81fbe"
      },
      "source": [
        "#mean for New fleet\n",
        "newmn=[]\n",
        "for i in range(len(boots2[:])):\n",
        "  if  boots2[i][2]=='mean':\n",
        "    newmn.append(boots2[i][1])\n",
        "\n",
        "newmean=np.mean(newmn)\n",
        "\n",
        "print('Mean for New fleet:', newmean)\n"
      ],
      "execution_count": 36,
      "outputs": [
        {
          "output_type": "stream",
          "text": [
            "Mean for New fleet: 19.15139435158505\n"
          ],
          "name": "stdout"
        }
      ]
    },
    {
      "cell_type": "code",
      "metadata": {
        "id": "B-T6rKBrpdSV",
        "colab_type": "code",
        "outputId": "2014e224-b822-4366-8bc2-194c2ce26583",
        "colab": {
          "base_uri": "https://localhost:8080/",
          "height": 34
        }
      },
      "source": [
        "tobs=newmean-curmean\n",
        "tobs"
      ],
      "execution_count": 37,
      "outputs": [
        {
          "output_type": "execute_result",
          "data": {
            "text/plain": [
              "3.1258890224380416"
            ]
          },
          "metadata": {
            "tags": []
          },
          "execution_count": 37
        }
      ]
    },
    {
      "cell_type": "markdown",
      "metadata": {
        "id": "r9cvEw-k-Idg",
        "colab_type": "text"
      },
      "source": [
        "#Permutaion and P-Value to Check Null Hypothesis"
      ]
    },
    {
      "cell_type": "code",
      "metadata": {
        "id": "-wLB2DM_z7yr",
        "colab_type": "code",
        "colab": {
          "base_uri": "https://localhost:8080/",
          "height": 34
        },
        "outputId": "14bc6eff-6fa0-4f78-c72c-a578522b9c51"
      },
      "source": [
        "#For Null Hypothesis we suppose Current and New fleet are same.If it is near Zero then it rejects Null Hypothesis and favore New fleet otherwise no difference\n",
        "## Load the vehicle data\n",
        "df = pd.read_csv('https://raw.githubusercontent.com/albanda/CE888/master/lab2%20-%20bootstrap/vehicles.csv')\n",
        "count=0\n",
        "concat = np.concatenate((df['Current fleet'], df['New Fleet'].dropna()))\n",
        "for i in range(2000):\n",
        "  perm = np.random.permutation(concat)\n",
        "  pcurr = perm[:int(len(df['Current fleet'].dropna()))]\n",
        "  pnew = perm[int(len(df['New Fleet'].dropna())):]\n",
        "  percfltmean=np.mean(pcurr)\n",
        "  pernfltmean=np.mean(pnew)\n",
        "  tperm=pernfltmean-percfltmean\n",
        "  if tperm>tobs:\n",
        "    count=count+1\n",
        "p=count/2000\n",
        "print(\"p-value :\",p)"
      ],
      "execution_count": 39,
      "outputs": [
        {
          "output_type": "stream",
          "text": [
            "p-value : 0.0\n"
          ],
          "name": "stdout"
        }
      ]
    },
    {
      "cell_type": "markdown",
      "metadata": {
        "id": "CihUoNiRPXrJ",
        "colab_type": "text"
      },
      "source": [
        "#As P-value is 0 We can reject Null Hypothesis and New Fleet is better than current one"
      ]
    }
  ]
}
