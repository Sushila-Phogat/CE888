{
  "nbformat": 4,
  "nbformat_minor": 0,
  "metadata": {
    "colab": {
      "name": "Copy of TransferLearning_Example1.ipynb",
      "provenance": [],
      "toc_visible": true,
      "include_colab_link": true
    },
    "kernelspec": {
      "name": "python3",
      "display_name": "Python 3"
    },
    "accelerator": "GPU"
  },
  "cells": [
    {
      "cell_type": "markdown",
      "metadata": {
        "id": "view-in-github",
        "colab_type": "text"
      },
      "source": [
        "<a href=\"https://colab.research.google.com/github/Sushila-Phogat/CE888/blob/master/Lab8/TransferLearning_Example1.ipynb\" target=\"_parent\"><img src=\"https://colab.research.google.com/assets/colab-badge.svg\" alt=\"Open In Colab\"/></a>"
      ]
    },
    {
      "cell_type": "code",
      "metadata": {
        "id": "ZGifp6s3N-GX",
        "colab_type": "code",
        "outputId": "7c9f9525-63d4-4d5d-9a98-48e49dc61b5f",
        "colab": {
          "base_uri": "https://localhost:8080/",
          "height": 136
        }
      },
      "source": [
        "!git clone https://github.com/sagihaider/CE888_2020.git"
      ],
      "execution_count": 0,
      "outputs": [
        {
          "output_type": "stream",
          "text": [
            "Cloning into 'CE888_2020'...\n",
            "remote: Enumerating objects: 64, done.\u001b[K\n",
            "remote: Counting objects: 100% (64/64), done.\u001b[K\n",
            "remote: Compressing objects: 100% (60/60), done.\u001b[K\n",
            "remote: Total 25146 (delta 28), reused 4 (delta 0), pack-reused 25082\u001b[K\n",
            "Receiving objects: 100% (25146/25146), 561.99 MiB | 14.86 MiB/s, done.\n",
            "Resolving deltas: 100% (64/64), done.\n"
          ],
          "name": "stdout"
        }
      ]
    },
    {
      "cell_type": "code",
      "metadata": {
        "id": "QpyQuBxg4BtI",
        "colab_type": "code",
        "outputId": "36c4812a-6039-41e0-84e3-568145d8c663",
        "colab": {
          "base_uri": "https://localhost:8080/",
          "height": 34
        }
      },
      "source": [
        "# Upload data\n",
        "from zipfile import ZipFile\n",
        "file_name = \"/content/CE888_2020/Lab_8/data.zip\"\n",
        "\n",
        "with ZipFile(file_name, 'r') as zip:\n",
        "  zip.extractall()\n",
        "  print('done')"
      ],
      "execution_count": 0,
      "outputs": [
        {
          "output_type": "stream",
          "text": [
            "done\n"
          ],
          "name": "stdout"
        }
      ]
    },
    {
      "cell_type": "markdown",
      "metadata": {
        "id": "L5CXFTf_4fNZ",
        "colab_type": "text"
      },
      "source": [
        "Install packages tensorflow 1.3.0 and keras 2.0.7"
      ]
    },
    {
      "cell_type": "code",
      "metadata": {
        "id": "_sUSJLQK4tGp",
        "colab_type": "code",
        "outputId": "7eb3f5d5-7cd8-46c4-9574-c886e659087d",
        "colab": {
          "base_uri": "https://localhost:8080/",
          "height": 887
        }
      },
      "source": [
        "!pip install tensorflow==1.3.0\n",
        "!pip install keras==2.0.7"
      ],
      "execution_count": 0,
      "outputs": [
        {
          "output_type": "stream",
          "text": [
            "Collecting tensorflow==1.3.0\n",
            "\u001b[?25l  Downloading https://files.pythonhosted.org/packages/7c/9f/57e1404fc9345759e4a732c4ab48ab4dd78fd1e60ee1270442b8850fa75f/tensorflow-1.3.0-cp36-cp36m-manylinux1_x86_64.whl (43.5MB)\n",
            "\u001b[K     |████████████████████████████████| 43.6MB 70kB/s \n",
            "\u001b[?25hRequirement already satisfied: wheel>=0.26 in /usr/local/lib/python3.6/dist-packages (from tensorflow==1.3.0) (0.34.2)\n",
            "Collecting tensorflow-tensorboard<0.2.0,>=0.1.0\n",
            "\u001b[?25l  Downloading https://files.pythonhosted.org/packages/93/31/bb4111c3141d22bd7b2b553a26aa0c1863c86cb723919e5bd7847b3de4fc/tensorflow_tensorboard-0.1.8-py3-none-any.whl (1.6MB)\n",
            "\u001b[K     |████████████████████████████████| 1.6MB 50.5MB/s \n",
            "\u001b[?25hRequirement already satisfied: numpy>=1.11.0 in /usr/local/lib/python3.6/dist-packages (from tensorflow==1.3.0) (1.17.5)\n",
            "Requirement already satisfied: protobuf>=3.3.0 in /usr/local/lib/python3.6/dist-packages (from tensorflow==1.3.0) (3.10.0)\n",
            "Requirement already satisfied: six>=1.10.0 in /usr/local/lib/python3.6/dist-packages (from tensorflow==1.3.0) (1.12.0)\n",
            "Collecting bleach==1.5.0\n",
            "  Downloading https://files.pythonhosted.org/packages/33/70/86c5fec937ea4964184d4d6c4f0b9551564f821e1c3575907639036d9b90/bleach-1.5.0-py2.py3-none-any.whl\n",
            "Requirement already satisfied: markdown>=2.6.8 in /usr/local/lib/python3.6/dist-packages (from tensorflow-tensorboard<0.2.0,>=0.1.0->tensorflow==1.3.0) (3.2.1)\n",
            "Collecting html5lib==0.9999999\n",
            "\u001b[?25l  Downloading https://files.pythonhosted.org/packages/ae/ae/bcb60402c60932b32dfaf19bb53870b29eda2cd17551ba5639219fb5ebf9/html5lib-0.9999999.tar.gz (889kB)\n",
            "\u001b[K     |████████████████████████████████| 890kB 63.6MB/s \n",
            "\u001b[?25hRequirement already satisfied: werkzeug>=0.11.10 in /usr/local/lib/python3.6/dist-packages (from tensorflow-tensorboard<0.2.0,>=0.1.0->tensorflow==1.3.0) (1.0.0)\n",
            "Requirement already satisfied: setuptools in /usr/local/lib/python3.6/dist-packages (from protobuf>=3.3.0->tensorflow==1.3.0) (45.1.0)\n",
            "Building wheels for collected packages: html5lib\n",
            "  Building wheel for html5lib (setup.py) ... \u001b[?25l\u001b[?25hdone\n",
            "  Created wheel for html5lib: filename=html5lib-0.9999999-cp36-none-any.whl size=107220 sha256=5e5287f0b59df4b76e7c9f8c0c326df7423675eb21e99fc4b07b9e5ca9c3ecff\n",
            "  Stored in directory: /root/.cache/pip/wheels/50/ae/f9/d2b189788efcf61d1ee0e36045476735c838898eef1cad6e29\n",
            "Successfully built html5lib\n",
            "\u001b[31mERROR: stable-baselines 2.2.1 has requirement tensorflow>=1.5.0, but you'll have tensorflow 1.3.0 which is incompatible.\u001b[0m\n",
            "\u001b[31mERROR: magenta 0.3.19 has requirement tensorflow>=1.12.0, but you'll have tensorflow 1.3.0 which is incompatible.\u001b[0m\n",
            "Installing collected packages: html5lib, bleach, tensorflow-tensorboard, tensorflow\n",
            "  Found existing installation: html5lib 1.0.1\n",
            "    Uninstalling html5lib-1.0.1:\n",
            "      Successfully uninstalled html5lib-1.0.1\n",
            "  Found existing installation: bleach 3.1.0\n",
            "    Uninstalling bleach-3.1.0:\n",
            "      Successfully uninstalled bleach-3.1.0\n",
            "  Found existing installation: tensorflow 1.15.0\n",
            "    Uninstalling tensorflow-1.15.0:\n",
            "      Successfully uninstalled tensorflow-1.15.0\n",
            "Successfully installed bleach-1.5.0 html5lib-0.9999999 tensorflow-1.3.0 tensorflow-tensorboard-0.1.8\n",
            "Collecting keras==2.0.7\n",
            "\u001b[?25l  Downloading https://files.pythonhosted.org/packages/69/9b/d4a03bf5dcf533fecbbd88053be3a7b4a435e8c2602e5e21a02779dd1aca/Keras-2.0.7-py2.py3-none-any.whl (275kB)\n",
            "\u001b[K     |████████████████████████████████| 276kB 18.6MB/s \n",
            "\u001b[?25hRequirement already satisfied: six in /usr/local/lib/python3.6/dist-packages (from keras==2.0.7) (1.12.0)\n",
            "Requirement already satisfied: theano in /usr/local/lib/python3.6/dist-packages (from keras==2.0.7) (1.0.4)\n",
            "Requirement already satisfied: pyyaml in /usr/local/lib/python3.6/dist-packages (from keras==2.0.7) (3.13)\n",
            "Requirement already satisfied: scipy>=0.14 in /usr/local/lib/python3.6/dist-packages (from theano->keras==2.0.7) (1.4.1)\n",
            "Requirement already satisfied: numpy>=1.9.1 in /usr/local/lib/python3.6/dist-packages (from theano->keras==2.0.7) (1.17.5)\n",
            "\u001b[31mERROR: textgenrnn 1.4.1 has requirement keras>=2.1.5, but you'll have keras 2.0.7 which is incompatible.\u001b[0m\n",
            "Installing collected packages: keras\n",
            "  Found existing installation: Keras 2.2.5\n",
            "    Uninstalling Keras-2.2.5:\n",
            "      Successfully uninstalled Keras-2.2.5\n",
            "Successfully installed keras-2.0.7\n"
          ],
          "name": "stdout"
        }
      ]
    },
    {
      "cell_type": "code",
      "metadata": {
        "id": "6ir0M9g_42S5",
        "colab_type": "code",
        "colab": {}
      },
      "source": [
        "import numpy as np\n",
        "import os\n",
        "import time\n",
        "from CE888_2020.Lab_8.vgg16 import VGG16\n",
        "from keras.preprocessing import image\n",
        "from keras.applications.imagenet_utils import preprocess_input\n",
        "from keras.applications.imagenet_utils import decode_predictions\n",
        "from keras.layers import Dense, Activation, Flatten\n",
        "from keras.layers import merge, Input\n",
        "from keras.models import Model\n",
        "from keras.utils import np_utils\n",
        "from sklearn.utils import shuffle\n",
        "from sklearn.model_selection import train_test_split"
      ],
      "execution_count": 0,
      "outputs": []
    },
    {
      "cell_type": "code",
      "metadata": {
        "id": "EOHvUJxQ5lWQ",
        "colab_type": "code",
        "outputId": "80391a7f-0d4b-47ed-ab32-68ec0631fb45",
        "colab": {
          "base_uri": "https://localhost:8080/",
          "height": 68
        }
      },
      "source": [
        "#%% Load an elephant image as an example and see the image-processing\n",
        "\n",
        "img_path = '/content/CE888_2020/Lab_8/elephant.jpg' # image name\n",
        "img = image.load_img(img_path, target_size=(224, 224)) # load image\n",
        "x = image.img_to_array(img) # convert image to array\n",
        "print (x.shape)\n",
        "x = np.expand_dims(x, axis=0) # expand dimension\n",
        "print (x.shape)\n",
        "x = preprocess_input(x)\n",
        "print('Input image shape:', x.shape)"
      ],
      "execution_count": 0,
      "outputs": [
        {
          "output_type": "stream",
          "text": [
            "(224, 224, 3)\n",
            "(1, 224, 224, 3)\n",
            "Input image shape: (1, 224, 224, 3)\n"
          ],
          "name": "stdout"
        }
      ]
    },
    {
      "cell_type": "code",
      "metadata": {
        "id": "-bH1gHhqo8rW",
        "colab_type": "code",
        "outputId": "23095c7c-449c-4b5b-949c-d8a3c13e18bd",
        "colab": {
          "base_uri": "https://localhost:8080/",
          "height": 34
        }
      },
      "source": [
        "#%% Loading the training data\n",
        "PATH = os.getcwd()\n",
        "\n",
        "# Define data path\n",
        "data_path = PATH + '/data'\n",
        "data_dir_list = os.listdir(data_path)\n",
        "print(data_dir_list)\n"
      ],
      "execution_count": 0,
      "outputs": [
        {
          "output_type": "stream",
          "text": [
            "['dogs', 'cats', 'horses', 'Humans']\n"
          ],
          "name": "stdout"
        }
      ]
    },
    {
      "cell_type": "code",
      "metadata": {
        "id": "33MalFoM5pTX",
        "colab_type": "code",
        "outputId": "6b8ff8a9-7502-47cc-d1fa-1895d2b4b12e",
        "colab": {
          "base_uri": "https://localhost:8080/",
          "height": 292
        }
      },
      "source": [
        "img_data_list=[] # created an empty list for images to be loaded\n",
        "\n",
        "for dataset in data_dir_list:\n",
        "\timg_list=os.listdir(data_path+'/'+ dataset)\n",
        "\tprint ('Loaded the images of dataset-'+'{}\\n'.format(dataset))\n",
        "\tprint(img_list)\n",
        "\tfor img in img_list:\n",
        "\t\timg_path = data_path + '/'+ dataset + '/'+ img\n",
        "\t\timg = image.load_img(img_path, target_size=(224, 224))\n",
        "\t\tx = image.img_to_array(img)\n",
        "\t\tx = np.expand_dims(x, axis=0)\n",
        "\t\tx = preprocess_input(x)\n",
        "#\t\tx = x/255\n",
        "\t\t# print('Input image shape:', x.shape)\n",
        "\t\timg_data_list.append(x)\n",
        "\n",
        "#%% \n",
        "img_data = np.array(img_data_list)\n",
        "#img_data = img_data.astype('float32')\n",
        "print (img_data.shape)\n",
        "img_data=np.rollaxis(img_data,1,0)\n",
        "print (img_data.shape)\n",
        "img_data=img_data[0]\n",
        "print (img_data.shape)"
      ],
      "execution_count": 0,
      "outputs": [
        {
          "output_type": "stream",
          "text": [
            "Loaded the images of dataset-dogs\n",
            "\n",
            "['dog.93.jpg', 'dog.74.jpg', 'dog.134.jpg', 'dog.96.jpg', 'dog.77.jpg', 'dog.42.jpg', 'dog.172.jpg', 'dog.10.jpg', 'dog.151.jpg', 'dog.106.jpg', 'dog.64.jpg', 'dog.71.jpg', 'dog.37.jpg', 'dog.160.jpg', 'dog.23.jpg', 'dog.169.jpg', 'dog.144.jpg', 'dog.105.jpg', 'dog.41.jpg', 'dog.47.jpg', 'dog.24.jpg', 'dog.19.jpg', 'dog.20.jpg', 'dog.163.jpg', 'dog.58.jpg', 'dog.196.jpg', 'dog.51.jpg', 'dog.45.jpg', 'dog.126.jpg', 'dog.198.jpg', 'dog.201.jpg', 'dog.199.jpg', 'dog.183.jpg', 'dog.73.jpg', 'dog.38.jpg', 'dog.102.jpg', 'dog.143.jpg', 'dog.88.jpg', 'dog.16.jpg', 'dog.202.jpg', 'dog.174.jpg', 'dog.121.jpg', 'dog.48.jpg', 'dog.185.jpg', 'dog.168.jpg', 'dog.133.jpg', 'dog.159.jpg', 'dog.97.jpg', 'dog.101.jpg', 'dog.114.jpg', 'dog.12.jpg', 'dog.197.jpg', 'dog.181.jpg', 'dog.2.jpg', 'dog.31.jpg', 'dog.67.jpg', 'dog.21.jpg', 'dog.17.jpg', 'dog.118.jpg', 'dog.54.jpg', 'dog.164.jpg', 'dog.8.jpg', 'dog.109.jpg', 'dog.63.jpg', 'dog.28.jpg', 'dog.81.jpg', 'dog.130.jpg', 'dog.90.jpg', 'dog.91.jpg', 'dog.39.jpg', 'dog.193.jpg', 'dog.179.jpg', 'dog.15.jpg', 'dog.117.jpg', 'dog.11.jpg', 'dog.99.jpg', 'dog.87.jpg', 'dog.127.jpg', 'dog.125.jpg', 'dog.140.jpg', 'dog.116.jpg', 'dog.128.jpg', 'dog.139.jpg', 'dog.142.jpg', 'dog.53.jpg', 'dog.192.jpg', 'dog.86.jpg', 'dog.189.jpg', 'dog.129.jpg', 'dog.60.jpg', 'dog.138.jpg', 'dog.166.jpg', 'dog.186.jpg', 'dog.72.jpg', 'dog.103.jpg', 'dog.147.jpg', 'dog.50.jpg', 'dog.80.jpg', 'dog.30.jpg', 'dog.52.jpg', 'dog.191.jpg', 'dog.113.jpg', 'dog.7.jpg', 'dog.124.jpg', 'dog.44.jpg', 'dog.180.jpg', 'dog.85.jpg', 'dog.170.jpg', 'dog.57.jpg', 'dog.89.jpg', 'dog.177.jpg', 'dog.123.jpg', 'dog.92.jpg', 'dog.79.jpg', 'dog.46.jpg', 'dog.146.jpg', 'dog.136.jpg', 'dog.167.jpg', 'dog.194.jpg', 'dog.55.jpg', 'dog.25.jpg', 'dog.35.jpg', 'dog.190.jpg', 'dog.137.jpg', 'dog.29.jpg', 'dog.156.jpg', 'dog.22.jpg', 'dog.200.jpg', 'dog.3.jpg', 'dog.13.jpg', 'dog.70.jpg', 'dog.195.jpg', 'dog.49.jpg', 'dog.56.jpg', 'dog.18.jpg', 'dog.176.jpg', 'dog.152.jpg', 'dog.161.jpg', 'dog.4.jpg', 'dog.110.jpg', 'dog.187.jpg', 'dog.150.jpg', 'dog.157.jpg', 'dog.36.jpg', 'dog.32.jpg', 'dog.107.jpg', 'dog.34.jpg', 'dog.26.jpg', 'dog.6.jpg', 'dog.100.jpg', 'dog.61.jpg', 'dog.69.jpg', 'dog.40.jpg', 'dog.104.jpg', 'dog.62.jpg', 'dog.84.jpg', 'dog.175.jpg', 'dog.158.jpg', 'dog.162.jpg', 'dog.155.jpg', 'dog.184.jpg', 'dog.9.jpg', 'dog.5.jpg', 'dog.154.jpg', 'dog.182.jpg', 'dog.78.jpg', 'dog.141.jpg', 'dog.119.jpg', 'dog.14.jpg', 'dog.75.jpg', 'dog.82.jpg', 'dog.131.jpg', 'dog.165.jpg', 'dog.95.jpg', 'dog.135.jpg', 'dog.66.jpg', 'dog.173.jpg', 'dog.115.jpg', 'dog.83.jpg', 'dog.153.jpg', 'dog.171.jpg', 'dog.178.jpg', 'dog.33.jpg', 'dog.1.jpg', 'dog.94.jpg', 'dog.188.jpg', 'dog.76.jpg', 'dog.122.jpg', 'dog.132.jpg', 'dog.149.jpg', 'dog.145.jpg', 'dog.68.jpg', 'dog.98.jpg', 'dog.112.jpg', 'dog.27.jpg', 'dog.111.jpg', 'dog.65.jpg', 'dog.120.jpg', 'dog.59.jpg', 'dog.43.jpg', 'dog.108.jpg', 'dog.148.jpg']\n",
            "Loaded the images of dataset-cats\n",
            "\n",
            "['cat.165.jpg', 'cat.36.jpg', 'cat.156.jpg', 'cat.145.jpg', 'cat.43.jpg', 'cat.16.jpg', 'cat.186.jpg', 'cat.13.jpg', 'cat.149.jpg', 'cat.46.jpg', 'cat.117.jpg', 'cat.101.jpg', 'cat.22.jpg', 'cat.175.jpg', 'cat.25.jpg', 'cat.112.jpg', 'cat.148.jpg', 'cat.170.jpg', 'cat.131.jpg', 'cat.127.jpg', 'cat.179.jpg', 'cat.73.jpg', 'cat.85.jpg', 'cat.107.jpg', 'cat.163.jpg', 'cat.92.jpg', 'cat.37.jpg', 'cat.130.jpg', 'cat.28.jpg', 'cat.141.jpg', 'cat.55.jpg', 'cat.58.jpg', 'cat.53.jpg', 'cat.44.jpg', 'cat.188.jpg', 'cat.82.jpg', 'cat.125.jpg', 'cat.152.jpg', 'cat.168.jpg', 'cat.4.jpg', 'cat.23.jpg', 'cat.178.jpg', 'cat.109.jpg', 'cat.86.jpg', 'cat.18.jpg', 'cat.111.jpg', 'cat.118.jpg', 'cat.81.jpg', 'cat.196.jpg', 'cat.96.jpg', 'cat.8.jpg', 'cat.65.jpg', 'cat.124.jpg', 'cat.114.jpg', 'cat.91.jpg', 'cat.113.jpg', 'cat.70.jpg', 'cat.159.jpg', 'cat.146.jpg', 'cat.11.jpg', 'cat.80.jpg', 'cat.100.jpg', 'cat.192.jpg', 'cat.34.jpg', 'cat.129.jpg', 'cat.54.jpg', 'cat.137.jpg', 'cat.31.jpg', 'cat.69.jpg', 'cat.158.jpg', 'cat.201.jpg', 'cat.139.jpg', 'cat.62.jpg', 'cat.128.jpg', 'cat.184.jpg', 'cat.104.jpg', 'cat.195.jpg', 'cat.115.jpg', 'cat.75.jpg', 'cat.21.jpg', 'cat.29.jpg', 'cat.119.jpg', 'cat.189.jpg', 'cat.126.jpg', 'cat.9.jpg', 'cat.88.jpg', 'cat.66.jpg', 'cat.143.jpg', 'cat.26.jpg', 'cat.93.jpg', 'cat.24.jpg', 'cat.116.jpg', 'cat.10.jpg', 'cat.200.jpg', 'cat.6.jpg', 'cat.105.jpg', 'cat.35.jpg', 'cat.3.jpg', 'cat.2.jpg', 'cat.67.jpg', 'cat.153.jpg', 'cat.177.jpg', 'cat.48.jpg', 'cat.51.jpg', 'cat.15.jpg', 'cat.57.jpg', 'cat.106.jpg', 'cat.97.jpg', 'cat.147.jpg', 'cat.30.jpg', 'cat.185.jpg', 'cat.72.jpg', 'cat.98.jpg', 'cat.41.jpg', 'cat.102.jpg', 'cat.95.jpg', 'cat.160.jpg', 'cat.166.jpg', 'cat.42.jpg', 'cat.180.jpg', 'cat.194.jpg', 'cat.61.jpg', 'cat.14.jpg', 'cat.45.jpg', 'cat.108.jpg', 'cat.169.jpg', 'cat.5.jpg', 'cat.155.jpg', 'cat.190.jpg', 'cat.83.jpg', 'cat.39.jpg', 'cat.123.jpg', 'cat.171.jpg', 'cat.181.jpg', 'cat.154.jpg', 'cat.78.jpg', 'cat.162.jpg', 'cat.19.jpg', 'cat.199.jpg', 'cat.161.jpg', 'cat.90.jpg', 'cat.121.jpg', 'cat.173.jpg', 'cat.33.jpg', 'cat.140.jpg', 'cat.68.jpg', 'cat.59.jpg', 'cat.50.jpg', 'cat.94.jpg', 'cat.89.jpg', 'cat.138.jpg', 'cat.38.jpg', 'cat.52.jpg', 'cat.49.jpg', 'cat.202.jpg', 'cat.122.jpg', 'cat.84.jpg', 'cat.136.jpg', 'cat.151.jpg', 'cat.103.jpg', 'cat.120.jpg', 'cat.135.jpg', 'cat.197.jpg', 'cat.27.jpg', 'cat.157.jpg', 'cat.12.jpg', 'cat.20.jpg', 'cat.47.jpg', 'cat.172.jpg', 'cat.7.jpg', 'cat.71.jpg', 'cat.142.jpg', 'cat.74.jpg', 'cat.176.jpg', 'cat.32.jpg', 'cat.79.jpg', 'cat.133.jpg', 'cat.64.jpg', 'cat.76.jpg', 'cat.87.jpg', 'cat.164.jpg', 'cat.174.jpg', 'cat.182.jpg', 'cat.99.jpg', 'cat.191.jpg', 'cat.183.jpg', 'cat.60.jpg', 'cat.134.jpg', 'cat.193.jpg', 'cat.198.jpg', 'cat.40.jpg', 'cat.144.jpg', 'cat.167.jpg', 'cat.77.jpg', 'cat.56.jpg', 'cat.1.jpg', 'cat.110.jpg', 'cat.132.jpg', 'cat.17.jpg', 'cat.150.jpg', 'cat.63.jpg', 'cat.187.jpg']\n",
            "Loaded the images of dataset-horses\n",
            "\n",
            "['horse-151.jpg', 'horse-141.jpg', 'horse-138.jpg', 'horse-75.jpg', 'horse-133.jpg', 'horse-128.jpg', 'horse-172.jpg', 'horse-3.jpg', 'horse-192.jpg', 'horse-1.jpg', 'horse-43.jpg', 'horse-11.jpg', 'horse-89.jpg', 'horse-33.jpg', 'horse-193.jpg', 'horse-159.jpg', 'horse-129.jpg', 'horse-136.jpg', 'horse-15.jpg', 'horse-177.jpg', 'horse-179.jpg', 'horse-146.jpg', 'horse-178.jpg', 'horse-113.jpg', 'horse-185.jpg', 'horse-80.jpg', 'horse-197.jpg', 'horse-161.jpg', 'horse-36.jpg', 'horse-93.jpg', 'horse-125.jpg', 'horse-198.jpg', 'horse-148.jpg', 'horse-163.jpg', 'horse-20.jpg', 'horse-56.jpg', 'horse-143.jpg', 'horse-32.jpg', 'horse-101.jpg', 'horse-52.jpg', 'horse-118.jpg', 'horse-168.jpg', 'horse-90.jpg', 'horse-17.jpg', 'horse-127.jpg', 'horse-157.jpg', 'horse-47.jpg', 'horse-158.jpg', 'horse-142.jpg', 'horse-60.jpg', 'horse-195.jpg', 'horse-27.jpg', 'horse-12.jpg', 'horse-165.jpg', 'horse-68.jpg', 'horse-98.jpg', 'horse-170.jpg', 'horse-123.jpg', 'horse-117.jpg', 'horse-188.jpg', 'horse-22.jpg', 'horse-154.jpg', 'horse-181.jpg', 'horse-202.jpg', 'horse-137.jpg', 'horse-8.jpg', 'horse-130.jpg', 'horse-97.jpg', 'horse-6.jpg', 'horse-191.jpg', 'horse-99.jpg', 'horse-21.jpg', 'horse-19.jpg', 'horse-120.jpg', 'horse-51.jpg', 'horse-184.jpg', 'horse-174.jpg', 'horse-171.jpg', 'horse-173.jpg', 'horse-84.jpg', 'horse-88.jpg', 'horse-167.jpg', 'horse-18.jpg', 'horse-187.jpg', 'horse-5.jpg', 'horse-46.jpg', 'horse-35.jpg', 'horse-106.jpg', 'horse-65.jpg', 'horse-82.jpg', 'horse-4.jpg', 'horse-54.jpg', 'horse-55.jpg', 'horse-147.jpg', 'horse-139.jpg', 'horse-149.jpg', 'horse-42.jpg', 'horse-109.jpg', 'horse-111.jpg', 'horse-200.jpg', 'horse-78.jpg', 'horse-135.jpg', 'horse-16.jpg', 'horse-48.jpg', 'horse-70.jpg', 'horse-116.jpg', 'horse-67.jpg', 'horse-10.jpg', 'horse-62.jpg', 'horse-39.jpg', 'horse-95.jpg', 'horse-94.jpg', 'horse-53.jpg', 'horse-156.jpg', 'horse-131.jpg', 'horse-49.jpg', 'horse-23.jpg', 'horse-189.jpg', 'horse-44.jpg', 'horse-164.jpg', 'horse-58.jpg', 'horse-145.jpg', 'horse-85.jpg', 'horse-77.jpg', 'horse-134.jpg', 'horse-105.jpg', 'horse-45.jpg', 'horse-155.jpg', 'horse-152.jpg', 'horse-114.jpg', 'horse-34.jpg', 'horse-153.jpg', 'horse-59.jpg', 'horse-121.jpg', 'horse-79.jpg', 'horse-7.jpg', 'horse-110.jpg', 'horse-63.jpg', 'horse-186.jpg', 'horse-119.jpg', 'horse-87.jpg', 'horse-126.jpg', 'horse-2.jpg', 'horse-72.jpg', 'horse-166.jpg', 'horse-69.jpg', 'horse-194.jpg', 'horse-50.jpg', 'horse-86.jpg', 'horse-199.jpg', 'horse-175.jpg', 'horse-176.jpg', 'horse-24.jpg', 'horse-196.jpg', 'horse-28.jpg', 'horse-26.jpg', 'horse-115.jpg', 'horse-182.jpg', 'horse-104.jpg', 'horse-160.jpg', 'horse-144.jpg', 'horse-102.jpg', 'horse-132.jpg', 'horse-201.jpg', 'horse-40.jpg', 'horse-96.jpg', 'horse-14.jpg', 'horse-74.jpg', 'horse-76.jpg', 'horse-122.jpg', 'horse-41.jpg', 'horse-81.jpg', 'horse-108.jpg', 'horse-13.jpg', 'horse-162.jpg', 'horse-83.jpg', 'horse-100.jpg', 'horse-38.jpg', 'horse-180.jpg', 'horse-103.jpg', 'horse-71.jpg', 'horse-150.jpg', 'horse-124.jpg', 'horse-9.jpg', 'horse-183.jpg', 'horse-92.jpg', 'horse-57.jpg', 'horse-140.jpg', 'horse-73.jpg', 'horse-29.jpg', 'horse-91.jpg', 'horse-61.jpg', 'horse-107.jpg', 'horse-64.jpg', 'horse-25.jpg', 'horse-112.jpg', 'horse-190.jpg', 'horse-30.jpg', 'horse-31.jpg', 'horse-66.jpg', 'horse-169.jpg', 'horse-37.jpg']\n",
            "Loaded the images of dataset-Humans\n",
            "\n",
            "['rider-135.jpg', 'rider-70.jpg', 'rider-154.jpg', 'rider-124.jpg', 'rider-160.jpg', 'rider-5.jpg', 'rider-168.jpg', 'rider-99.jpg', 'rider-67.jpg', 'rider-175.jpg', 'rider-193.jpg', 'rider-97.jpg', 'rider-157.jpg', 'rider-25.jpg', 'rider-119.jpg', 'rider-89.jpg', 'rider-198.jpg', 'rider-19.jpg', 'rider-28.jpg', 'rider-20.jpg', 'rider-87.jpg', 'rider-156.jpg', 'rider-169.jpg', 'rider-2.jpg', 'rider-195.jpg', 'rider-189.jpg', 'rider-128.jpg', 'rider-192.jpg', 'rider-108.jpg', 'rider-177.jpg', 'rider-80.jpg', 'rider-158.jpg', 'rider-171.jpg', 'rider-129.jpg', 'rider-138.jpg', 'rider-77.jpg', 'rider-78.jpg', 'rider-201.jpg', 'rider-145.jpg', 'rider-151.jpg', 'rider-68.jpg', 'rider-117.jpg', 'rider-17.jpg', 'rider-24.jpg', 'rider-120.jpg', 'rider-30.jpg', 'rider-18.jpg', 'rider-29.jpg', 'rider-36.jpg', 'rider-181.jpg', 'rider-133.jpg', 'rider-187.jpg', 'rider-53.jpg', 'rider-185.jpg', 'rider-47.jpg', 'rider-146.jpg', 'rider-101.jpg', 'rider-136.jpg', 'rider-137.jpg', 'rider-63.jpg', 'rider-178.jpg', 'rider-40.jpg', 'rider-1.jpg', 'rider-191.jpg', 'rider-186.jpg', 'rider-61.jpg', 'rider-14.jpg', 'rider-122.jpg', 'rider-130.jpg', 'rider-106.jpg', 'rider-8.jpg', 'rider-165.jpg', 'rider-50.jpg', 'rider-43.jpg', 'rider-102.jpg', 'rider-184.jpg', 'rider-144.jpg', 'rider-59.jpg', 'rider-44.jpg', 'rider-39.jpg', 'rider-199.jpg', 'rider-85.jpg', 'rider-57.jpg', 'rider-96.jpg', 'rider-33.jpg', 'rider-84.jpg', 'rider-153.jpg', 'rider-109.jpg', 'rider-173.jpg', 'rider-71.jpg', 'rider-46.jpg', 'rider-200.jpg', 'rider-176.jpg', 'rider-22.jpg', 'rider-26.jpg', 'rider-161.jpg', 'rider-110.jpg', 'rider-69.jpg', 'rider-10.jpg', 'rider-103.jpg', 'rider-41.jpg', 'rider-126.jpg', 'rider-100.jpg', 'rider-164.jpg', 'rider-148.jpg', 'rider-111.jpg', 'rider-147.jpg', 'rider-55.jpg', 'rider-72.jpg', 'rider-3.jpg', 'rider-105.jpg', 'rider-141.jpg', 'rider-42.jpg', 'rider-76.jpg', 'rider-134.jpg', 'rider-107.jpg', 'rider-188.jpg', 'rider-139.jpg', 'rider-190.jpg', 'rider-152.jpg', 'rider-142.jpg', 'rider-37.jpg', 'rider-64.jpg', 'rider-127.jpg', 'rider-66.jpg', 'rider-79.jpg', 'rider-197.jpg', 'rider-32.jpg', 'rider-51.jpg', 'rider-35.jpg', 'rider-23.jpg', 'rider-82.jpg', 'rider-104.jpg', 'rider-11.jpg', 'rider-92.jpg', 'rider-140.jpg', 'rider-180.jpg', 'rider-194.jpg', 'rider-132.jpg', 'rider-95.jpg', 'rider-58.jpg', 'rider-162.jpg', 'rider-75.jpg', 'rider-45.jpg', 'rider-4.jpg', 'rider-179.jpg', 'rider-202.jpg', 'rider-167.jpg', 'rider-166.jpg', 'rider-73.jpg', 'rider-118.jpg', 'rider-174.jpg', 'rider-163.jpg', 'rider-6.jpg', 'rider-74.jpg', 'rider-60.jpg', 'rider-62.jpg', 'rider-114.jpg', 'rider-15.jpg', 'rider-27.jpg', 'rider-131.jpg', 'rider-172.jpg', 'rider-54.jpg', 'rider-121.jpg', 'rider-90.jpg', 'rider-155.jpg', 'rider-196.jpg', 'rider-88.jpg', 'rider-182.jpg', 'rider-113.jpg', 'rider-83.jpg', 'rider-9.jpg', 'rider-98.jpg', 'rider-149.jpg', 'rider-170.jpg', 'rider-52.jpg', 'rider-116.jpg', 'rider-56.jpg', 'rider-112.jpg', 'rider-48.jpg', 'rider-49.jpg', 'rider-38.jpg', 'rider-150.jpg', 'rider-159.jpg', 'rider-94.jpg', 'rider-16.jpg', 'rider-21.jpg', 'rider-91.jpg', 'rider-183.jpg', 'rider-31.jpg', 'rider-13.jpg', 'rider-93.jpg', 'rider-12.jpg', 'rider-81.jpg', 'rider-123.jpg', 'rider-115.jpg', 'rider-86.jpg', 'rider-125.jpg', 'rider-143.jpg', 'rider-7.jpg', 'rider-65.jpg', 'rider-34.jpg']\n",
            "(808, 1, 224, 224, 3)\n",
            "(1, 808, 224, 224, 3)\n",
            "(808, 224, 224, 3)\n"
          ],
          "name": "stdout"
        }
      ]
    },
    {
      "cell_type": "code",
      "metadata": {
        "id": "LlZmTqYG5raH",
        "colab_type": "code",
        "outputId": "6d81f329-8439-4663-ed27-1d94cb74faf3",
        "colab": {
          "base_uri": "https://localhost:8080/",
          "height": 34
        }
      },
      "source": [
        "# Define the number of classes\n",
        "num_classes = 4\n",
        "print(img_data.shape[0])\n",
        "num_of_samples = img_data.shape[0]\n",
        "labels = np.ones((num_of_samples,),dtype='int64')\n",
        "\n",
        "labels[0:202]=0\n",
        "labels[202:404]=1\n",
        "labels[404:606]=2\n",
        "labels[606:]=3\n",
        "\n",
        "names = ['cats','dogs','horses','humans']\n",
        "\n",
        "# convert class labels to on-hot encoding\n",
        "Y = np_utils.to_categorical(labels, num_classes)\n",
        "\n",
        "#Shuffle the dataset\n",
        "x,y = shuffle(img_data,Y, random_state=2)\n",
        "# Split the dataset\n",
        "X_train, X_test, y_train, y_test = train_test_split(x, y, test_size=0.2, random_state=2)\n"
      ],
      "execution_count": 0,
      "outputs": [
        {
          "output_type": "stream",
          "text": [
            "808\n"
          ],
          "name": "stdout"
        }
      ]
    },
    {
      "cell_type": "code",
      "metadata": {
        "id": "KmH_k5ps5wAf",
        "colab_type": "code",
        "outputId": "b87c0bdc-c56b-4c5c-9550-2c41a9902f07",
        "colab": {
          "base_uri": "https://localhost:8080/",
          "height": 918
        }
      },
      "source": [
        "image_input = Input(shape=(224, 224, 3)) # shape of a single image\n",
        "\n",
        "model = VGG16(input_tensor=image_input, include_top=True,weights='imagenet') # load VGG-16 model with 'top = true'\n",
        "model.summary()"
      ],
      "execution_count": 0,
      "outputs": [
        {
          "output_type": "stream",
          "text": [
            "_________________________________________________________________\n",
            "Layer (type)                 Output Shape              Param #   \n",
            "=================================================================\n",
            "input_2 (InputLayer)         (None, 224, 224, 3)       0         \n",
            "_________________________________________________________________\n",
            "block1_conv1 (Conv2D)        (None, 224, 224, 64)      1792      \n",
            "_________________________________________________________________\n",
            "block1_conv2 (Conv2D)        (None, 224, 224, 64)      36928     \n",
            "_________________________________________________________________\n",
            "block1_pool (MaxPooling2D)   (None, 112, 112, 64)      0         \n",
            "_________________________________________________________________\n",
            "block2_conv1 (Conv2D)        (None, 112, 112, 128)     73856     \n",
            "_________________________________________________________________\n",
            "block2_conv2 (Conv2D)        (None, 112, 112, 128)     147584    \n",
            "_________________________________________________________________\n",
            "block2_pool (MaxPooling2D)   (None, 56, 56, 128)       0         \n",
            "_________________________________________________________________\n",
            "block3_conv1 (Conv2D)        (None, 56, 56, 256)       295168    \n",
            "_________________________________________________________________\n",
            "block3_conv2 (Conv2D)        (None, 56, 56, 256)       590080    \n",
            "_________________________________________________________________\n",
            "block3_conv3 (Conv2D)        (None, 56, 56, 256)       590080    \n",
            "_________________________________________________________________\n",
            "block3_pool (MaxPooling2D)   (None, 28, 28, 256)       0         \n",
            "_________________________________________________________________\n",
            "block4_conv1 (Conv2D)        (None, 28, 28, 512)       1180160   \n",
            "_________________________________________________________________\n",
            "block4_conv2 (Conv2D)        (None, 28, 28, 512)       2359808   \n",
            "_________________________________________________________________\n",
            "block4_conv3 (Conv2D)        (None, 28, 28, 512)       2359808   \n",
            "_________________________________________________________________\n",
            "block4_pool (MaxPooling2D)   (None, 14, 14, 512)       0         \n",
            "_________________________________________________________________\n",
            "block5_conv1 (Conv2D)        (None, 14, 14, 512)       2359808   \n",
            "_________________________________________________________________\n",
            "block5_conv2 (Conv2D)        (None, 14, 14, 512)       2359808   \n",
            "_________________________________________________________________\n",
            "block5_conv3 (Conv2D)        (None, 14, 14, 512)       2359808   \n",
            "_________________________________________________________________\n",
            "block5_pool (MaxPooling2D)   (None, 7, 7, 512)         0         \n",
            "_________________________________________________________________\n",
            "flatten (Flatten)            (None, 25088)             0         \n",
            "_________________________________________________________________\n",
            "fc1 (Dense)                  (None, 4096)              102764544 \n",
            "_________________________________________________________________\n",
            "fc2 (Dense)                  (None, 4096)              16781312  \n",
            "_________________________________________________________________\n",
            "predictions (Dense)          (None, 1000)              4097000   \n",
            "=================================================================\n",
            "Total params: 138,357,544\n",
            "Trainable params: 138,357,544\n",
            "Non-trainable params: 0\n",
            "_________________________________________________________________\n"
          ],
          "name": "stdout"
        }
      ]
    },
    {
      "cell_type": "code",
      "metadata": {
        "id": "C6Zbx2ok54Av",
        "colab_type": "code",
        "outputId": "124f6c7b-220f-4628-fb14-1a5d12d80f88",
        "colab": {
          "base_uri": "https://localhost:8080/",
          "height": 952
        }
      },
      "source": [
        "last_layer = model.get_layer('fc2').output\n",
        "print(last_layer)\n",
        "#x= Flatten(name='flatten')(last_layer)\n",
        "out = Dense(num_classes, activation='softmax', name='output')(last_layer)\n",
        "print(out)\n",
        "custom_vgg_model = Model(image_input, out)\n",
        "custom_vgg_model.summary()\n",
        "\n"
      ],
      "execution_count": 0,
      "outputs": [
        {
          "output_type": "stream",
          "text": [
            "Tensor(\"fc2_1/Relu:0\", shape=(?, 4096), dtype=float32)\n",
            "Tensor(\"output_1/Softmax:0\", shape=(?, 4), dtype=float32)\n",
            "_________________________________________________________________\n",
            "Layer (type)                 Output Shape              Param #   \n",
            "=================================================================\n",
            "input_2 (InputLayer)         (None, 224, 224, 3)       0         \n",
            "_________________________________________________________________\n",
            "block1_conv1 (Conv2D)        (None, 224, 224, 64)      1792      \n",
            "_________________________________________________________________\n",
            "block1_conv2 (Conv2D)        (None, 224, 224, 64)      36928     \n",
            "_________________________________________________________________\n",
            "block1_pool (MaxPooling2D)   (None, 112, 112, 64)      0         \n",
            "_________________________________________________________________\n",
            "block2_conv1 (Conv2D)        (None, 112, 112, 128)     73856     \n",
            "_________________________________________________________________\n",
            "block2_conv2 (Conv2D)        (None, 112, 112, 128)     147584    \n",
            "_________________________________________________________________\n",
            "block2_pool (MaxPooling2D)   (None, 56, 56, 128)       0         \n",
            "_________________________________________________________________\n",
            "block3_conv1 (Conv2D)        (None, 56, 56, 256)       295168    \n",
            "_________________________________________________________________\n",
            "block3_conv2 (Conv2D)        (None, 56, 56, 256)       590080    \n",
            "_________________________________________________________________\n",
            "block3_conv3 (Conv2D)        (None, 56, 56, 256)       590080    \n",
            "_________________________________________________________________\n",
            "block3_pool (MaxPooling2D)   (None, 28, 28, 256)       0         \n",
            "_________________________________________________________________\n",
            "block4_conv1 (Conv2D)        (None, 28, 28, 512)       1180160   \n",
            "_________________________________________________________________\n",
            "block4_conv2 (Conv2D)        (None, 28, 28, 512)       2359808   \n",
            "_________________________________________________________________\n",
            "block4_conv3 (Conv2D)        (None, 28, 28, 512)       2359808   \n",
            "_________________________________________________________________\n",
            "block4_pool (MaxPooling2D)   (None, 14, 14, 512)       0         \n",
            "_________________________________________________________________\n",
            "block5_conv1 (Conv2D)        (None, 14, 14, 512)       2359808   \n",
            "_________________________________________________________________\n",
            "block5_conv2 (Conv2D)        (None, 14, 14, 512)       2359808   \n",
            "_________________________________________________________________\n",
            "block5_conv3 (Conv2D)        (None, 14, 14, 512)       2359808   \n",
            "_________________________________________________________________\n",
            "block5_pool (MaxPooling2D)   (None, 7, 7, 512)         0         \n",
            "_________________________________________________________________\n",
            "flatten (Flatten)            (None, 25088)             0         \n",
            "_________________________________________________________________\n",
            "fc1 (Dense)                  (None, 4096)              102764544 \n",
            "_________________________________________________________________\n",
            "fc2 (Dense)                  (None, 4096)              16781312  \n",
            "_________________________________________________________________\n",
            "output (Dense)               (None, 4)                 16388     \n",
            "=================================================================\n",
            "Total params: 134,276,932\n",
            "Trainable params: 134,276,932\n",
            "Non-trainable params: 0\n",
            "_________________________________________________________________\n"
          ],
          "name": "stdout"
        }
      ]
    },
    {
      "cell_type": "code",
      "metadata": {
        "id": "EZTDo98uqvsX",
        "colab_type": "code",
        "outputId": "b6770b9a-9425-4231-84d1-947acc699b6a",
        "colab": {
          "base_uri": "https://localhost:8080/",
          "height": 918
        }
      },
      "source": [
        "for layer in custom_vgg_model.layers[:-1]:\n",
        "\tlayer.trainable = False\n",
        "\n",
        "custom_vgg_model.layers[3].trainable\n",
        "custom_vgg_model.summary()\n",
        "\n",
        "custom_vgg_model.compile(loss='categorical_crossentropy',optimizer='rmsprop',metrics=['accuracy'])"
      ],
      "execution_count": 0,
      "outputs": [
        {
          "output_type": "stream",
          "text": [
            "_________________________________________________________________\n",
            "Layer (type)                 Output Shape              Param #   \n",
            "=================================================================\n",
            "input_2 (InputLayer)         (None, 224, 224, 3)       0         \n",
            "_________________________________________________________________\n",
            "block1_conv1 (Conv2D)        (None, 224, 224, 64)      1792      \n",
            "_________________________________________________________________\n",
            "block1_conv2 (Conv2D)        (None, 224, 224, 64)      36928     \n",
            "_________________________________________________________________\n",
            "block1_pool (MaxPooling2D)   (None, 112, 112, 64)      0         \n",
            "_________________________________________________________________\n",
            "block2_conv1 (Conv2D)        (None, 112, 112, 128)     73856     \n",
            "_________________________________________________________________\n",
            "block2_conv2 (Conv2D)        (None, 112, 112, 128)     147584    \n",
            "_________________________________________________________________\n",
            "block2_pool (MaxPooling2D)   (None, 56, 56, 128)       0         \n",
            "_________________________________________________________________\n",
            "block3_conv1 (Conv2D)        (None, 56, 56, 256)       295168    \n",
            "_________________________________________________________________\n",
            "block3_conv2 (Conv2D)        (None, 56, 56, 256)       590080    \n",
            "_________________________________________________________________\n",
            "block3_conv3 (Conv2D)        (None, 56, 56, 256)       590080    \n",
            "_________________________________________________________________\n",
            "block3_pool (MaxPooling2D)   (None, 28, 28, 256)       0         \n",
            "_________________________________________________________________\n",
            "block4_conv1 (Conv2D)        (None, 28, 28, 512)       1180160   \n",
            "_________________________________________________________________\n",
            "block4_conv2 (Conv2D)        (None, 28, 28, 512)       2359808   \n",
            "_________________________________________________________________\n",
            "block4_conv3 (Conv2D)        (None, 28, 28, 512)       2359808   \n",
            "_________________________________________________________________\n",
            "block4_pool (MaxPooling2D)   (None, 14, 14, 512)       0         \n",
            "_________________________________________________________________\n",
            "block5_conv1 (Conv2D)        (None, 14, 14, 512)       2359808   \n",
            "_________________________________________________________________\n",
            "block5_conv2 (Conv2D)        (None, 14, 14, 512)       2359808   \n",
            "_________________________________________________________________\n",
            "block5_conv3 (Conv2D)        (None, 14, 14, 512)       2359808   \n",
            "_________________________________________________________________\n",
            "block5_pool (MaxPooling2D)   (None, 7, 7, 512)         0         \n",
            "_________________________________________________________________\n",
            "flatten (Flatten)            (None, 25088)             0         \n",
            "_________________________________________________________________\n",
            "fc1 (Dense)                  (None, 4096)              102764544 \n",
            "_________________________________________________________________\n",
            "fc2 (Dense)                  (None, 4096)              16781312  \n",
            "_________________________________________________________________\n",
            "output (Dense)               (None, 4)                 16388     \n",
            "=================================================================\n",
            "Total params: 134,276,932\n",
            "Trainable params: 16,388\n",
            "Non-trainable params: 134,260,544\n",
            "_________________________________________________________________\n"
          ],
          "name": "stdout"
        }
      ]
    },
    {
      "cell_type": "code",
      "metadata": {
        "id": "9YNyLGT6AbVq",
        "colab_type": "code",
        "outputId": "8324d226-836a-45fd-9f1f-4ee0d76e4d5d",
        "colab": {
          "base_uri": "https://localhost:8080/",
          "height": 153
        }
      },
      "source": [
        "t=time.time()\n",
        "#\tt = now()\n",
        "hist = custom_vgg_model.fit(X_train, y_train, batch_size=32, epochs=2, verbose=1, validation_data=(X_test, y_test))\n",
        "print('Training time: %s' % (t - time.time()))\n",
        "(loss, accuracy) = custom_vgg_model.evaluate(X_test, y_test, batch_size=10, verbose=1)\n",
        "\n",
        "print(\"[INFO] loss={:.4f}, accuracy: {:.4f}%\".format(loss,accuracy * 100))"
      ],
      "execution_count": 0,
      "outputs": [
        {
          "output_type": "stream",
          "text": [
            "Train on 646 samples, validate on 162 samples\n",
            "Epoch 1/2\n",
            "646/646 [==============================] - 1205s - loss: 0.4006 - acc: 0.8700 - val_loss: 0.0824 - val_acc: 0.9815\n",
            "Epoch 2/2\n",
            "646/646 [==============================] - 1194s - loss: 0.0447 - acc: 0.9845 - val_loss: 0.0632 - val_acc: 0.9691\n",
            "Training time: -2399.9142758846283\n",
            "162/162 [==============================] - 238s   \n",
            "[INFO] loss=0.0632, accuracy: 96.9136%\n"
          ],
          "name": "stdout"
        }
      ]
    },
    {
      "cell_type": "code",
      "metadata": {
        "id": "IPo5QKsBn7k2",
        "colab_type": "code",
        "outputId": "27315a47-3f7a-4beb-ce2b-ad8ee204b62f",
        "colab": {
          "base_uri": "https://localhost:8080/",
          "height": 739
        }
      },
      "source": [
        "#%% plot\n",
        "import matplotlib.pyplot as plt\n",
        "# visualizing losses and accuracy\n",
        "train_loss=hist.history['loss']\n",
        "val_loss=hist.history['val_loss']\n",
        "train_acc=hist.history['acc']\n",
        "val_acc=hist.history['val_acc']\n",
        "xc=range(2)\n",
        "\n",
        "plt.figure(1,figsize=(7,5))\n",
        "plt.plot(xc,train_loss)\n",
        "plt.plot(xc,val_loss)\n",
        "plt.xlabel('num of Epochs')\n",
        "plt.ylabel('loss')\n",
        "plt.title('train_loss vs val_loss')\n",
        "plt.grid(True)\n",
        "plt.legend(['train','val'])\n",
        "#print plt.style.available # use bmh, classic,ggplot for big pictures\n",
        "plt.style.use(['classic'])\n",
        "\n",
        "plt.figure(2,figsize=(7,5))\n",
        "plt.plot(xc,train_acc)\n",
        "plt.plot(xc,val_acc)\n",
        "plt.xlabel('num of Epochs')\n",
        "plt.ylabel('accuracy')\n",
        "plt.title('train_acc vs val_acc')\n",
        "plt.grid(True)\n",
        "plt.legend(['train','val'],loc=4)\n",
        "#print plt.style.available # use bmh, classic,ggplot for big pictures\n",
        "plt.style.use(['classic'])"
      ],
      "execution_count": 0,
      "outputs": [
        {
          "output_type": "display_data",
          "data": {
            "image/png": "[encoded data removed]",
            "text/plain": [
              "<Figure size 504x360 with 1 Axes>"
            ]
          },
          "metadata": {
            "tags": []
          }
        },
        {
          "output_type": "display_data",
          "data": {
            "image/png": "[encoded data removed]",
            "text/plain": [
              "<Figure size 560x400 with 1 Axes>"
            ]
          },
          "metadata": {
            "tags": []
          }
        }
      ]
    }
  ]
}