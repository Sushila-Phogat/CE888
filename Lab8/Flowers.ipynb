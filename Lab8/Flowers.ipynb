{
  "nbformat": 4,
  "nbformat_minor": 0,
  "metadata": {
    "colab": {
      "name": "Untitled18.ipynb",
      "provenance": [],
      "authorship_tag": "ABX9TyP7D1lzouOgDtxckUWhuDLX",
      "include_colab_link": true
    },
    "kernelspec": {
      "name": "python3",
      "display_name": "Python 3"
    }
  },
  "cells": [
    {
      "cell_type": "markdown",
      "metadata": {
        "id": "view-in-github",
        "colab_type": "text"
      },
      "source": [
        "<a href=\"https://colab.research.google.com/github/Sushila-Phogat/CE888/blob/master/Lab8/Flowers.ipynb\" target=\"_parent\"><img src=\"https://colab.research.google.com/assets/colab-badge.svg\" alt=\"Open In Colab\"/></a>"
      ]
    },
    {
      "cell_type": "code",
      "metadata": {
        "id": "y7w_-aMCOFG4",
        "colab_type": "code",
        "colab": {
          "base_uri": "https://localhost:8080/",
          "height": 68
        },
        "outputId": "042c2b6c-f996-4f6e-820e-24c454ea12c3"
      },
      "source": [
        "import os\n",
        "os.environ['KAGGLE_USERNAME'] = \"sushilakumari\" # username from the json file\n",
        "os.environ['KAGGLE_KEY'] = \"5e4b53595f841ece8b9f6d42ff83cbd2\" # key from the json file\n",
        "!kaggle datasets download -d alxmamaev/flowers-recognition # api copied from kaggle"
      ],
      "execution_count": 1,
      "outputs": [
        {
          "output_type": "stream",
          "text": [
            "Downloading flowers-recognition.zip to /content\n",
            "100% 449M/450M [00:11<00:00, 57.5MB/s]\n",
            "100% 450M/450M [00:11<00:00, 41.4MB/s]\n"
          ],
          "name": "stdout"
        }
      ]
    },
    {
      "cell_type": "code",
      "metadata": {
        "id": "Qaj2C5WKRi8F",
        "colab_type": "code",
        "colab": {
          "base_uri": "https://localhost:8080/",
          "height": 34
        },
        "outputId": "51258296-6aca-4824-b4f8-b5922b62ee4a"
      },
      "source": [
        "!git clone https://github.com/sagihaider/CE888_2020.git"
      ],
      "execution_count": 6,
      "outputs": [
        {
          "output_type": "stream",
          "text": [
            "fatal: destination path 'CE888_2020' already exists and is not an empty directory.\n"
          ],
          "name": "stdout"
        }
      ]
    },
    {
      "cell_type": "code",
      "metadata": {
        "id": "8ZolVonxO8Kl",
        "colab_type": "code",
        "colab": {
          "base_uri": "https://localhost:8080/",
          "height": 34
        },
        "outputId": "5903446a-bdba-4001-d81c-aef467751ffb"
      },
      "source": [
        "# Upload data\n",
        "from zipfile import ZipFile\n",
        "file_name = \"/content/flowers-recognition.zip\"\n",
        "\n",
        "with ZipFile(file_name, 'r') as zip:\n",
        "  zip.extractall()\n",
        "  print('done')"
      ],
      "execution_count": 2,
      "outputs": [
        {
          "output_type": "stream",
          "text": [
            "done\n"
          ],
          "name": "stdout"
        }
      ]
    },
    {
      "cell_type": "code",
      "metadata": {
        "id": "ojQeEdoxREgE",
        "colab_type": "code",
        "colab": {
          "base_uri": "https://localhost:8080/",
          "height": 853
        },
        "outputId": "9d1a555b-1da9-4009-8be3-c8527a75dc97"
      },
      "source": [
        "!pip install tensorflow==1.3.0\n",
        "!pip install keras==2.0.7"
      ],
      "execution_count": 3,
      "outputs": [
        {
          "output_type": "stream",
          "text": [
            "Collecting tensorflow==1.3.0\n",
            "\u001b[?25l  Downloading https://files.pythonhosted.org/packages/7c/9f/57e1404fc9345759e4a732c4ab48ab4dd78fd1e60ee1270442b8850fa75f/tensorflow-1.3.0-cp36-cp36m-manylinux1_x86_64.whl (43.5MB)\n",
            "\u001b[K     |████████████████████████████████| 43.6MB 93kB/s \n",
            "\u001b[?25hRequirement already satisfied: wheel>=0.26 in /usr/local/lib/python3.6/dist-packages (from tensorflow==1.3.0) (0.34.2)\n",
            "Requirement already satisfied: six>=1.10.0 in /usr/local/lib/python3.6/dist-packages (from tensorflow==1.3.0) (1.12.0)\n",
            "Collecting tensorflow-tensorboard<0.2.0,>=0.1.0\n",
            "\u001b[?25l  Downloading https://files.pythonhosted.org/packages/93/31/bb4111c3141d22bd7b2b553a26aa0c1863c86cb723919e5bd7847b3de4fc/tensorflow_tensorboard-0.1.8-py3-none-any.whl (1.6MB)\n",
            "\u001b[K     |████████████████████████████████| 1.6MB 32.9MB/s \n",
            "\u001b[?25hRequirement already satisfied: protobuf>=3.3.0 in /usr/local/lib/python3.6/dist-packages (from tensorflow==1.3.0) (3.10.0)\n",
            "Requirement already satisfied: numpy>=1.11.0 in /usr/local/lib/python3.6/dist-packages (from tensorflow==1.3.0) (1.18.2)\n",
            "Collecting html5lib==0.9999999\n",
            "\u001b[?25l  Downloading https://files.pythonhosted.org/packages/ae/ae/bcb60402c60932b32dfaf19bb53870b29eda2cd17551ba5639219fb5ebf9/html5lib-0.9999999.tar.gz (889kB)\n",
            "\u001b[K     |████████████████████████████████| 890kB 45.3MB/s \n",
            "\u001b[?25hRequirement already satisfied: markdown>=2.6.8 in /usr/local/lib/python3.6/dist-packages (from tensorflow-tensorboard<0.2.0,>=0.1.0->tensorflow==1.3.0) (3.2.1)\n",
            "Collecting bleach==1.5.0\n",
            "  Downloading https://files.pythonhosted.org/packages/33/70/86c5fec937ea4964184d4d6c4f0b9551564f821e1c3575907639036d9b90/bleach-1.5.0-py2.py3-none-any.whl\n",
            "Requirement already satisfied: werkzeug>=0.11.10 in /usr/local/lib/python3.6/dist-packages (from tensorflow-tensorboard<0.2.0,>=0.1.0->tensorflow==1.3.0) (1.0.0)\n",
            "Requirement already satisfied: setuptools in /usr/local/lib/python3.6/dist-packages (from protobuf>=3.3.0->tensorflow==1.3.0) (46.0.0)\n",
            "Building wheels for collected packages: html5lib\n",
            "  Building wheel for html5lib (setup.py) ... \u001b[?25l\u001b[?25hdone\n",
            "  Created wheel for html5lib: filename=html5lib-0.9999999-cp36-none-any.whl size=107220 sha256=12ef8aaa9bf736925ca40494c2c9b1576c7ce672e746fb066c43845a9cdac68b\n",
            "  Stored in directory: /root/.cache/pip/wheels/50/ae/f9/d2b189788efcf61d1ee0e36045476735c838898eef1cad6e29\n",
            "Successfully built html5lib\n",
            "Installing collected packages: html5lib, bleach, tensorflow-tensorboard, tensorflow\n",
            "  Found existing installation: html5lib 1.0.1\n",
            "    Uninstalling html5lib-1.0.1:\n",
            "      Successfully uninstalled html5lib-1.0.1\n",
            "  Found existing installation: bleach 3.1.3\n",
            "    Uninstalling bleach-3.1.3:\n",
            "      Successfully uninstalled bleach-3.1.3\n",
            "  Found existing installation: tensorflow 2.2.0rc1\n",
            "    Uninstalling tensorflow-2.2.0rc1:\n",
            "      Successfully uninstalled tensorflow-2.2.0rc1\n",
            "Successfully installed bleach-1.5.0 html5lib-0.9999999 tensorflow-1.3.0 tensorflow-tensorboard-0.1.8\n",
            "Collecting keras==2.0.7\n",
            "\u001b[?25l  Downloading https://files.pythonhosted.org/packages/69/9b/d4a03bf5dcf533fecbbd88053be3a7b4a435e8c2602e5e21a02779dd1aca/Keras-2.0.7-py2.py3-none-any.whl (275kB)\n",
            "\u001b[K     |████████████████████████████████| 276kB 1.4MB/s \n",
            "\u001b[?25hRequirement already satisfied: six in /usr/local/lib/python3.6/dist-packages (from keras==2.0.7) (1.12.0)\n",
            "Requirement already satisfied: pyyaml in /usr/local/lib/python3.6/dist-packages (from keras==2.0.7) (3.13)\n",
            "Requirement already satisfied: theano in /usr/local/lib/python3.6/dist-packages (from keras==2.0.7) (1.0.4)\n",
            "Requirement already satisfied: scipy>=0.14 in /usr/local/lib/python3.6/dist-packages (from theano->keras==2.0.7) (1.4.1)\n",
            "Requirement already satisfied: numpy>=1.9.1 in /usr/local/lib/python3.6/dist-packages (from theano->keras==2.0.7) (1.18.2)\n",
            "\u001b[31mERROR: textgenrnn 1.4.1 has requirement keras>=2.1.5, but you'll have keras 2.0.7 which is incompatible.\u001b[0m\n",
            "Installing collected packages: keras\n",
            "  Found existing installation: Keras 2.2.5\n",
            "    Uninstalling Keras-2.2.5:\n",
            "      Successfully uninstalled Keras-2.2.5\n",
            "Successfully installed keras-2.0.7\n"
          ],
          "name": "stdout"
        }
      ]
    },
    {
      "cell_type": "code",
      "metadata": {
        "id": "f4RQYxH4RLMf",
        "colab_type": "code",
        "colab": {
          "base_uri": "https://localhost:8080/",
          "height": 304
        },
        "outputId": "c4a0a335-8c18-4a65-808b-75d123fdce8b"
      },
      "source": [
        "import numpy as np\n",
        "import os\n",
        "import time\n",
        "from CE888_2020.Lab_8.vgg16 import VGG16\n",
        "from keras.preprocessing import image\n",
        "from keras.applications.imagenet_utils import preprocess_input\n",
        "from keras.applications.imagenet_utils import decode_predictions\n",
        "from keras.layers import Dense, Activation, Flatten\n",
        "from keras.layers import merge, Input\n",
        "from keras.models import Model\n",
        "from keras.utils import np_utils\n",
        "from sklearn.utils import shuffle\n",
        "from sklearn.model_selection import train_test_split"
      ],
      "execution_count": 7,
      "outputs": [
        {
          "output_type": "stream",
          "text": [
            "Using TensorFlow backend.\n",
            "/usr/local/lib/python3.6/dist-packages/tensorflow/python/framework/dtypes.py:458: FutureWarning: Passing (type, 1) or '1type' as a synonym of type is deprecated; in a future version of numpy, it will be understood as (type, (1,)) / '(1,)type'.\n",
            "  _np_qint8 = np.dtype([(\"qint8\", np.int8, 1)])\n",
            "/usr/local/lib/python3.6/dist-packages/tensorflow/python/framework/dtypes.py:459: FutureWarning: Passing (type, 1) or '1type' as a synonym of type is deprecated; in a future version of numpy, it will be understood as (type, (1,)) / '(1,)type'.\n",
            "  _np_quint8 = np.dtype([(\"quint8\", np.uint8, 1)])\n",
            "/usr/local/lib/python3.6/dist-packages/tensorflow/python/framework/dtypes.py:460: FutureWarning: Passing (type, 1) or '1type' as a synonym of type is deprecated; in a future version of numpy, it will be understood as (type, (1,)) / '(1,)type'.\n",
            "  _np_qint16 = np.dtype([(\"qint16\", np.int16, 1)])\n",
            "/usr/local/lib/python3.6/dist-packages/tensorflow/python/framework/dtypes.py:461: FutureWarning: Passing (type, 1) or '1type' as a synonym of type is deprecated; in a future version of numpy, it will be understood as (type, (1,)) / '(1,)type'.\n",
            "  _np_quint16 = np.dtype([(\"quint16\", np.uint16, 1)])\n",
            "/usr/local/lib/python3.6/dist-packages/tensorflow/python/framework/dtypes.py:462: FutureWarning: Passing (type, 1) or '1type' as a synonym of type is deprecated; in a future version of numpy, it will be understood as (type, (1,)) / '(1,)type'.\n",
            "  _np_qint32 = np.dtype([(\"qint32\", np.int32, 1)])\n",
            "/usr/local/lib/python3.6/dist-packages/tensorflow/python/framework/dtypes.py:465: FutureWarning: Passing (type, 1) or '1type' as a synonym of type is deprecated; in a future version of numpy, it will be understood as (type, (1,)) / '(1,)type'.\n",
            "  np_resource = np.dtype([(\"resource\", np.ubyte, 1)])\n"
          ],
          "name": "stderr"
        },
        {
          "output_type": "display_data",
          "data": {
            "text/html": [
              "<p style=\"color: red;\">\n",
              "The default version of TensorFlow in Colab will switch to TensorFlow 2.x on the 27th of March, 2020.<br>\n",
              "We recommend you <a href=\"https://www.tensorflow.org/guide/migrate\" target=\"_blank\">upgrade</a> now\n",
              "or ensure your notebook will continue to use TensorFlow 1.x via the <code>%tensorflow_version 1.x</code> magic:\n",
              "<a href=\"https://colab.research.google.com/notebooks/tensorflow_version.ipynb\" target=\"_blank\">more info</a>.</p>\n"
            ],
            "text/plain": [
              "<IPython.core.display.HTML object>"
            ]
          },
          "metadata": {
            "tags": []
          }
        }
      ]
    },
    {
      "cell_type": "code",
      "metadata": {
        "id": "LGC4o1ggRS1z",
        "colab_type": "code",
        "colab": {
          "base_uri": "https://localhost:8080/",
          "height": 51
        },
        "outputId": "984dae7f-7a70-485d-cdf0-e6b27c2a1021"
      },
      "source": [
        "#%% Loading the training data\n",
        "PATH = os.getcwd()\n",
        "print(PATH)\n",
        "# Define data path\n",
        "data_path = PATH + '/flowers'\n",
        "data_dir_list = os.listdir(data_path)\n",
        "print(data_dir_list)\n"
      ],
      "execution_count": 8,
      "outputs": [
        {
          "output_type": "stream",
          "text": [
            "/content\n",
            "['dandelion', 'daisy', 'sunflower', 'rose', 'flowers', 'tulip']\n"
          ],
          "name": "stdout"
        }
      ]
    },
    {
      "cell_type": "code",
      "metadata": {
        "id": "TFzA5e5uSu_6",
        "colab_type": "code",
        "colab": {
          "base_uri": "https://localhost:8080/",
          "height": 445
        },
        "outputId": "37ba43ca-ae61-4245-f7f8-3b060a3cdd62"
      },
      "source": [
        "img_data_list=[] # created an empty list for images to be loaded\n",
        "\n",
        "for dataset in data_dir_list:\n",
        "\timg_list=os.listdir(data_path+'/'+ dataset)\n",
        "\tprint ('Loaded the images of dataset-'+'{}\\n'.format(dataset))\n",
        "\tprint(img_list)\n",
        "\tfor img in img_list:\n",
        "\t\timg_path = data_path + '/'+ dataset + '/'+ img\n",
        "\t\timg = image.load_img(img_path, target_size=(224, 224))\n",
        "\t\tx = image.img_to_array(img)\n",
        "\t\tx = np.expand_dims(x, axis=0)\n",
        "\t\tx = preprocess_input(x)\n",
        "#\t\tx = x/255\n",
        "\t\t# print('Input image shape:', x.shape)\n",
        "\t\timg_data_list.append(x)\n",
        "\n",
        "#%% \n",
        "img_data = np.array(img_data_list)\n",
        "#img_data = img_data.astype('float32')\n",
        "print (img_data.shape)\n",
        "img_data=np.rollaxis(img_data,1,0)\n",
        "print (img_data.shape)\n",
        "img_data=img_data[0]\n",
        "print (img_data.shape)"
      ],
      "execution_count": 10,
      "outputs": [
        {
          "output_type": "stream",
          "text": [
            "Loaded the images of dataset-dandelion\n",
            "\n",
            "['14128835667_b6a916222c.jpg', '33522989504_542fde1a1a_n.jpg', '11296320473_1d9261ddcb.jpg', '19621170705_30bf8bf0ba.jpg', '8915661673_9a1cdc3755_m.jpg', '19599413676_fc9ee2640e.jpg', '645330051_06b192b7e1.jpg', '18271576032_d7e2296de4_n.jpg', '16716172029_2166d8717f_m.jpg', '4278757393_bca8415ed4_n.jpg', '15123503538_8ee984abc6.jpg', '15549402199_2890918ddb.jpg', '17146644679_11aff3045c.jpg', '7368449232_c99f49b2e6_n.jpg', '2517777524_e871ec5291_m.jpg', '1193386857_3ae53574f2_m.jpg', '1443259657_2704fab26e_n.jpg', '33851560384_d2e7d933db_n.jpg', '34346200780_c3a783a3ec_n.jpg', '33877161494_05686b7f7a_n.jpg', '34690479536_69da7b98e7_n.jpg', '3844111216_742ea491a0.jpg', '8727612532_6f3d0904aa_n.jpg', '34647026976_68af8875e0_n.jpg', '18970601002_d70bc883a9.jpg', '34662979916_0479576f5e_n.jpg', '2780702427_312333ef33.jpg', '8267315764_129f2e1d77_m.jpg', '9617087594_ec2a9b16f6.jpg', '4552591312_02fe1dcc04_n.jpg', '8684925862_d736e153bf_n.jpg', '2542908888_25a1c78ff0.jpg', '13560152823_9da5e48c87_m.jpg', '13734221225_0e04edc6b6.jpg', '7719263062_3c8a307a5d.jpg', '6901435398_b3192ff7f8_m.jpg', '8979062599_86cac547b8.jpg', '4691257171_23a29aaa33_n.jpg', '8663932737_0a603ab718_n.jpg', '2387025546_6aecb1b984_n.jpg', '4598938531_9749b3b56a.jpg', '7196409186_a59957ce0b_m.jpg', '17831860736_3e44667bbb_n.jpg', '5416388641_c66d52d2ff_m.jpg', '141935731_d26d600f4f_m.jpg', '151385302_f8980a257f_n.jpg', '2502627784_4486978bcf.jpg', '19443674130_08db1d9578_m.jpg', '510897767_918260db93.jpg', '8220011556_28e0cab67f.jpg', '34338412180_a1f4faa1e7_n.jpg', '2481428401_bed64dd043.jpg', '34562347042_e4dc06879a_n.jpg', '8757650550_113d7af3bd.jpg', '14200639491_2a4611916d_n.jpg', '4558562689_c8e2ab9f10.jpg', '3585220976_5acac92d1c.jpg', '33885269993_3968e1aacc_n.jpg', '4893356345_24d67eff9f_m.jpg', '2476098674_e6f39536f5_n.jpg', '3530495617_fd84fb321a_m.jpg', '6918170172_3215766bf4_m.jpg', '4523862714_b41b459c88.jpg', '9029756865_db8891807a_n.jpg', '3664916269_29f07c7c7b.jpg', '7193058132_36fd883048_m.jpg', '3149809654_6a4b31314d_n.jpg', '21657726011_2c94e341bc_n.jpg', '1080179756_5f05350a59.jpg', '16766166609_ccb8344c9f_m.jpg', '3357432116_b3dce6fed3_n.jpg', '3383422012_6c9d83671f_n.jpg', '16495282564_d8c34d6a2e_m.jpg', '34591174681_483f7cb82a_n.jpg', '3530500952_9f94fb8b9c_m.jpg', '4571923094_b9cefa9438_n.jpg', '4944731313_023a0508fd_n.jpg', '5003160931_cf8cbb846f.jpg', '8980273068_cf7e8b880a_n.jpg', '8981659922_7b1be892e7_m.jpg', '6400843175_ef07053f8f_m.jpg', '510874382_f7e3435043.jpg', '5727534342_419604c177_n.jpg', '8735646181_fa9787d4e0.jpg', '19691175559_ef12b8b354_n.jpg', '2674176237_e265ea64cc_n.jpg', '2831102668_eb65cd40b9_n.jpg', '1353279846_7e6b87606d.jpg', '2634665077_597910235f_m.jpg', '2608937632_cfd93bc7cd.jpg', '2326334426_2dc74fceb1.jpg', '34582964591_dc9f160fce_n.jpg', '16713229021_bea2533981_n.jpg', '34709307795_994ddf0eb5_n.jpg', 'flickr.py', '149782934_21adaf4a21.jpg', '15002906952_cab2cb29cf.jpg', '33856267954_b806fab0db_n.jpg', '3580443099_9a6902ebd8_n.jpg', '16863587471_cc3a6ffb29_m.jpg', '33904560113_497239a68f_n.jpg', '34604698981_89d8741b10_n.jpg', '9262004825_710346cde9_n.jpg', '2039797043_d5b709f275_n.jpg', '8756906129_b05a1b26f2.jpg', '6412422565_ce61ca48a9_n.jpg', '62293290_2c463891ff_m.jpg', '3502447188_ab4a5055ac_m.jpg', '3533075436_0954145b9f_m.jpg', '315645471_dda66c6338_m.jpg', '151385301_153eacf6b5_n.jpg', '18479635994_83f93f4120.jpg', '33914172633_592a6eb74f_n.jpg', '17851831751_35b071f4b0.jpg', '13967344688_aa629dcdee_n.jpg', '4574102507_70039c8b28.jpg', '2465573725_d78caca9d4_n.jpg', '3451079245_2139200d66_n.jpg', '14076873230_d0bd53b220.jpg', '34551666432_c5b5f9684e_n.jpg', '4714026966_93846ddb74_m.jpg', '8681169825_19a21c6bf5_m.jpg', '33875654554_e5e4070fab_n.jpg', '7116950607_49b19102ba_n.jpg', '5886830036_2b99899c95.jpg', '8749577087_dc2521615f_n.jpg', '17175932454_c052e205c1_n.jpg', '2469856983_fe8e36ba57.jpg', '8979087213_28f572174c.jpg', '17570530696_6a497298ee_n.jpg', '34549305152_15f407a771_n.jpg', '506659320_6fac46551e.jpg', '34605411661_4e735bd995_n.jpg', '14455605089_8bbfb41cd7_n.jpg', '34562659841_caba988a0c_n.jpg', '3857059749_fe8ca621a9.jpg', '33892172244_684e99b6fc_n.jpg', '17095758258_a33642946f_n.jpg', '2449852402_45d12b9875_n.jpg', '10946896405_81d2d50941_m.jpg', '483097906_2c35054346.jpg', '2522454811_f87af57d8b.jpg', '8684108_a85764b22d_n.jpg', '7141019507_4a44c6e888_m.jpg', '7247192002_39b79998f0_n.jpg', '8681420404_6ae114f036_n.jpg', '19440660848_c789227129_m.jpg', '7148085703_b9e8bcd6ca_n.jpg', '14058811536_f29cd7bd58_n.jpg', '2229906591_e953785d13.jpg', '7197581386_8a51f1bb12_n.jpg', '5605502523_05acb00ae7_n.jpg', '34551360172_dde3b8e43d_n.jpg', '34583574661_8010a1fdf4_n.jpg', '19426575569_4b53c0b726.jpg', '9533964635_f38e6fa3c3.jpg', '148180650_19a4b410db.jpg', '10437652486_aa86c14985.jpg', '34334194690_0dfe3d8701_n.jpg', '34335240590_41e4a393db_n.jpg', '8475769_3dea463364_m.jpg', '5446666484_365f3be83a_n.jpg', '4632863567_5f9af7de97_n.jpg', '7308600792_27cff2f73f.jpg', '3499837275_5f24d2f8bf_n.jpg', '13900486390_5a25785645_n.jpg', '2116997627_30fed84e53_m.jpg', '33878218914_452600b869_n.jpg', '33913495873_b582be4fdf_n.jpg', '506660896_c903cca1f0.jpg', '10778387133_9141024b10.jpg', '5033866477_a77cccba49_m.jpg', '3501368412_358e144d1f.jpg', '34727715205_62c9c1ac44_n.jpg', '5745882709_fb6fc8f02a_n.jpg', '5772194932_60b833091f.jpg', '2494436687_775402e0aa.jpg', '751941983_58e1ae3957_m.jpg', '3761310831_41b5eba622_n.jpg', '7062171343_db61c92737_n.jpg', '4336536446_e635f48f2e.jpg', '5607669502_ccd2a76668_n.jpg', '10617191174_9a01753241_n.jpg', '8842317179_d59cf218cb_n.jpg', '27446317092_ff9bb852d5_n.jpg', '1426682852_e62169221f_m.jpg', '4633323785_20676ff914_m.jpg', '8223949_2928d3f6f6_n.jpg', '27186992702_449dfa54ef_n.jpg', '7164500544_332b75aa3b.jpg', '6132275522_ce46b33c33_m.jpg', '7270523166_b62fc9e5f1_m.jpg', '8935456132_8dc4d3b679_n.jpg', '11465213433_847c4fa261.jpg', '129019877_8eea2978ca_m.jpg', '14002252932_64d5cbdac7.jpg', '12093962485_7c3e9a2a23_n.jpg', '19613308325_a67792d889.jpg', '6994938270_bf51d0fe63.jpg', '18889216716_cd67aec890_n.jpg', '2133943140_9fc7bcc9aa.jpg', '4151883194_e45505934d_n.jpg', '5744236092_de84b4e38d_n.jpg', '14648777167_1d92d403c9_n.jpg', '19526570282_1d1e71b0f3_m.jpg', '9029297232_de50698e2f_n.jpg', '19438516548_bbaf350664.jpg', '34653465656_31bc613631_n.jpg', '5996421299_b9bf488c1a_n.jpg', '5797606814_ccac615312_m.jpg', '4082856478_741a411ebb.jpg', '18232119726_cef27eaaac_n.jpg', '33924521963_48cdc4f455_n.jpg', '3021333497_b927cd8596.jpg', '17420983523_2e32d70359.jpg', '34588967411_84b348245b_n.jpg', '13942846777_5571a6b0a1_n.jpg', '13675534854_03caf51644_m.jpg', '33909432943_bf810400b7_n.jpg', '921252114_91e334b950.jpg', '3465599902_14729e2b1b_n.jpg', '34527583252_79aafda601_n.jpg', '2600382379_5791b0b35a_m.jpg', '8613502159_d9ea67ba63.jpg', '8791577794_7573712cb4_n.jpg', '501987288_c69c4e0c90_m.jpg', '14202166370_e989588332.jpg', '15644450971_6a28298454_n.jpg', '2479491210_98e41c4e7d_m.jpg', '14185089716_2a48298d17.jpg', '6495802659_98b57e0cca_m.jpg', '7469617666_0e1a014917.jpg', '8880158802_6e10a452c7_m.jpg', '5045509402_6e052ce443.jpg', '6035460327_4bbb708eab_n.jpg', '17189437699_a9171b6ae3.jpg', '33890085903_0e10553b27_n.jpg', '7141013005_d2f168c373.jpg', '8980460785_b5e6842e59_n.jpg', '23891393761_155af6402c.jpg', '33869330174_b259025135_n.jpg', '14373114081_7922bcf765_n.jpg', '17276354745_2e312a72b5_n.jpg', '4696437766_85952d0196.jpg', '8058286066_acdf082487_n.jpg', '61242541_a04395e6bc.jpg', '4953240903_a121fba81f_m.jpg', '13910677675_4900fa3dbf_n.jpg', '4573204407_babff0dce4_n.jpg', '98992760_53ed1d26a9.jpg', '18687587599_3dd4fdf255.jpg', '16744522344_8d21b1530d_n.jpg', '459633569_5ddf6bc116_m.jpg', '148698493_5710e5f472.jpg', '17244252705_328e0bcda6.jpg', '8209318399_ae72aefdb5.jpg', '5670543216_8c4cb0caa8_m.jpg', '34599366451_2854aee943_n.jpg', '7448453384_fb9caaa9af_n.jpg', '8083321316_f62ea76f72_n.jpg', '34351608230_f95038a5a4_n.jpg', '14576445793_582aa6446b_m.jpg', '33873410454_04bc2167f4_n.jpg', '10617162044_8740d4dd9f_n.jpg', '5762590366_5cf7a32b87_n.jpg', '19961979110_fcd8092388_m.jpg', '16096748028_7876887ab2.jpg', '2683330456_0f7bbce110_m.jpg', '8681388520_c697dee897_n.jpg', '16970837587_4a9d8500d7.jpg', '3688128868_031e7b53e1_n.jpg', '8754822932_948afc7cef.jpg', '5608832856_f5d49de778.jpg', '34719559905_46ba779d79_n.jpg', '34729107795_c746845e17_n.jpg', '4713958242_fbcfe9a61b_m.jpg', '3419166382_a5e4b8fe6d_m.jpg', '7165651120_2279ebf6d1.jpg', '2995221296_a6ddaccc39.jpg', '9613826015_f345354874.jpg', '17457028309_95514c8d02_n.jpg', '23192507093_2e6ec77bef_n.jpg', '17574213074_f5416afd84.jpg', '9188647508_3b56e62f69.jpg', '2480853696_aacdbb5324.jpg', '1074999133_1e4a1e042e.jpg', '9595369280_dd88b61814.jpg', '4568317687_3f89622f76.jpg', '8376558865_19c5cd6fd6_n.jpg', '5572197407_a0047238a6.jpg', '8748402330_c00f9fbf7f_n.jpg', '3475811950_0fb89845f5_n.jpg', '14368895004_c486a29c1e_n.jpg', '7884440256_91c033732d.jpg', '4528742654_99d233223b_m.jpg', '2540640433_dedd577263.jpg', '33881120324_552f677c1a_n.jpg', '2634666217_d5ef87c9f7_m.jpg', '2535727910_769c020c0d_n.jpg', '14084345111_8a4cb05a31.jpg', '3513200808_390f1d63a7_m.jpg', '14126515096_1134fae695.jpg', '19437578578_6ab1b3c984.jpg', '14053184940_7ced69250f_n.jpg', '27166475803_f5503f51f8_n.jpg', '5776879272_95008399c3.jpg', '17688233756_21879104c1_n.jpg', '14805304536_c321a7b061_n.jpg', '14211880544_5d1f9d5aa8_n.jpg', '4275776457_d04b597cfa_n.jpg', '2628514700_b6d5325797_n.jpg', '6985099958_5249a4688b.jpg', '4632761610_768360d425.jpg', '9472854850_fc9e1db673.jpg', '3464015936_6845f46f64.jpg', '253622055_d72964a7fd_n.jpg', '461632542_0387557eff.jpg', '14439618952_470224b89b_n.jpg', '5655177340_78fc36ce59_m.jpg', '14554897292_b3e30e52f2.jpg', '4650752466_ed088e0d85_n.jpg', '4607183665_3472643bc8.jpg', '1798082733_b8080b1173_m.jpg', '17482158576_86c5ebc2f8.jpg', '2076141453_c63801962a_m.jpg', '17077940105_d2cd7b9ec4_n.jpg', '13968424321_1d89b33a9f_n.jpg', '34662996866_af256e8f10_n.jpg', '14065420729_9b388bf7cb_m.jpg', '9726260379_4e8ee66875_m.jpg', '3612582808_4503fa1f8b_m.jpg', '14886860069_b84665a073.jpg', '14278605962_d3cce5522f.jpg', '34586667251_bfda649f33_n.jpg', '32701230112_a33f8003a5_n.jpg', '13946048982_4e6ec56987.jpg', '284497233_c19801752c.jpg', '17388697431_0d84c427d1_n.jpg', '4675287055_5938ed62c4.jpg', '34578947551_863af3acb3_n.jpg', '3459346147_faffff51c7_n.jpg', '9853885425_4a82356f1d_m.jpg', '34592557281_5f254b3a46_n.jpg', '34694287966_43ce068108_n.jpg', '34323484476_6406ee1e37_n.jpg', '8719032054_9a3ce4f0ff.jpg', '10200780773_c6051a7d71_n.jpg', '6983120596_8b9f084ac2_n.jpg', '18996957833_0bd71fbbd4_m.jpg', '5129135346_3fa8e804d8_n.jpg', '8632704230_ccafc5f7e2.jpg', '5109501167_2d9bbb0f27_m.jpg', '3491333876_e3fed43c0d.jpg', '8717157979_05cbc10cc1.jpg', '7004645518_ff0f862eff_n.jpg', '34351602790_37234e2dae_n.jpg', '6994931380_a7588c1192_m.jpg', '2303491518_f25fee9440.jpg', '14093744313_b66bc95072.jpg', '33850973214_c1b4000d9c_n.jpg', '7280222348_a87725ca77.jpg', '18304194360_2a4a0be631_m.jpg', '18276105805_d31d3f7e71.jpg', '2470731130_089b8514f6_n.jpg', '2490828907_5094017933_m.jpg', '5829610661_8439ba4a77_n.jpg', '477316928_a70a31a704_m.jpg', '14457225751_645a3784fd_n.jpg', '8181477_8cb77d2e0f_n.jpg', '16987075_9a690a2183.jpg', '5598845098_13e8e9460f.jpg', '2401343175_d2a892cf25_n.jpg', '4496277750_8c34256e28.jpg', '34335432530_cd667cbb19_n.jpg', '4622115595_a0de9f2013_n.jpg', '6972675188_37f1f1d6f6.jpg', '854593001_c57939125f_n.jpg', '674407101_57676c40fb.jpg', '10477378514_9ffbcec4cf_m.jpg', '6994933428_307b092ce7_m.jpg', '1386449001_5d6da6bde6.jpg', '29687446176_096b86f44c_n.jpg', '32558425090_d6b6e86d85_n.jpg', '21523597492_39b6765cd7_m.jpg', '2489438981_4eb60ef98f_m.jpg', '9646730031_f3d5014416_n.jpg', '33881308394_738a121eb3_n.jpg', 'flickr.pyc', '19626311985_58f1a79da3.jpg', '4632757134_40156d7d5b.jpg', '5873232330_59818dee03_n.jpg', '34552250422_320900fd8e_n.jpg', '17122969189_0ec37cb6c9.jpg', '6229634119_af5fec0a22.jpg', '1273326361_b90ea56d0d_m.jpg', '7226987694_34552c3115_n.jpg', '8079778274_f2a400f749_n.jpg', '3365850019_8158a161a8_n.jpg', '3297108443_0393d04dfc_m.jpg', '9719816995_8f211abf02_n.jpg', '3487229452_73e3004858.jpg', '16817037661_2980d823e1_n.jpg', '486234138_688e01aa9b_n.jpg', '17322195031_c2680809dc_m.jpg', '4574451859_432c856b6e_n.jpg', '33876197394_c7a9487a9f_n.jpg', '19622465055_2a62ebd504_m.jpg', '146023167_f905574d97_m.jpg', '22785985545_95464115b0_m.jpg', '8717161615_4c1e403083.jpg', '7401173270_ebaf04c9b0_n.jpg', '19004688463_12a8423109.jpg', '17344936845_fec4d626b7.jpg', '8797114213_103535743c_m.jpg', '8720503800_cab5c62a34.jpg', '4571681134_b605a61547_n.jpg', '8011324555_375b7b5b0a.jpg', '3509307596_6cfe97867d_n.jpg', '11545123_50a340b473_m.jpg', '2478018280_1be353ca8c_m.jpg', '2516714633_87f28f0314.jpg', '7843447416_847e6ba7f4_m.jpg', '17619402434_15b2ec2d79.jpg', '13916196427_50a611008f.jpg', '451965300_619b781dc9_m.jpg', '2521811279_1f7fc353bf_n.jpg', '13386618495_3df1f1330d.jpg', 'run_me.py', '9152356642_06ae73113f.jpg', '9300335851_cdf1cef7a9.jpg', '34711474235_507d286bce_n.jpg', '2019520447_48b2354a20_m.jpg', '17821459748_873101edd0_m.jpg', '9010116368_2f51f1e086_n.jpg', '5643666851_dc3f42399d_m.jpg', '10919961_0af657c4e8.jpg', '5749815755_12f9214649_n.jpg', '14376454225_a1de336c5b.jpg', '33878004304_a7c823115b_n.jpg', '2535769822_513be6bbe9.jpg', '19397467530_1e8131a7cf.jpg', '33199895303_9858f0a258_n.jpg', '5681951567_d3b03bfd2a_m.jpg', '1469549847_eac61a6802.jpg', '18995294384_77543e96b6_n.jpg', '2477986396_19da36d557_m.jpg', '4573886520_09c984ecd8_m.jpg', '8689302980_9bd2f7b9fe_n.jpg', '19812060274_c432f603db.jpg', '2518321294_dde5aa7c20_m.jpg', '5140791232_52f2c5b41d_n.jpg', '34311470786_5b2b5bea1d_n.jpg', '14053397367_75cba846eb_n.jpg', '7368435774_0045b9dc4e.jpg', '5715788902_9dd2b4ef1d.jpg', '3589816063_50f8de7b64_m.jpg', '9818247_e2eac18894.jpg', '144040769_c5b805f868.jpg', '17075803866_aeeded2637.jpg', '7179487220_56e4725195_m.jpg', '4632251871_9f324a7bb5.jpg', '2472641499_cbe617a93d.jpg', '4514343281_26781484df.jpg', '3393060921_2328b752f4.jpg', '13331969914_890082d898_n.jpg', '6012046444_fd80afb63a_n.jpg', '5024965767_230f140d60_n.jpg', '145173479_7d04346c20.jpg', '7950901292_2dea05f9a2_n.jpg', '33852722314_e8907d51f1_n.jpg', '33847542834_0ce330ac60_n.jpg', '8716513637_2ba0c4e6cd_n.jpg', '8327657321_2cbceec396_n.jpg', '155646858_9a8b5e8fc8.jpg', '5757012454_c37f305b73.jpg', '478851599_25bfd70605_n.jpg', '4134441089_c8c1e6132a.jpg', '33875742534_31b85d1b05_n.jpg', '34537877932_f9a3476a4d_n.jpg', '2637883118_cf6ce37be4_n.jpg', '15381511376_fd743b7330_n.jpg', '2335702923_decb9a860b_m.jpg', '14060367700_fe87e99b6a_m.jpg', '2392273474_a64cef0eaf_n.jpg', '33886931523_4499a65b72_n.jpg', '144686365_d7e96941ee_n.jpg', '4862011506_4faf6d127e_n.jpg', '14048849371_ec9dbafaeb_m.jpg', '8981828144_4b66b4edb6_n.jpg', '5605093210_5fecb71c61.jpg', '34679936936_9924d79c8d_n.jpg', '18183515403_13a9ca6d86_n.jpg', '344318990_7be3fb0a7d.jpg', '34695057206_98de825612_n.jpg', '34365073265_246c5c0561_n.jpg', '33626882480_8b2345a63c_n.jpg', '31530587330_ba31bd196e_n.jpg', '2462379970_6bd5560f4c_m.jpg', '3580437733_9ef51f2981_n.jpg', '13920113_f03e867ea7_m.jpg', '33886917763_2db539f182_n.jpg', '2502610598_b9f1b55ebd_n.jpg', '34540904752_ae86e5f6ce_n.jpg', '6953830582_8525e0423c_n.jpg', '14012247974_69ac128799.jpg', '14070463051_86ab57ab36.jpg', '7280221020_98b473b20d_n.jpg', '3472437817_7902b3d984_n.jpg', '2453532367_fc373df4de.jpg', '34550871222_a9d795a2c0_n.jpg', '5613466853_e476bb080e.jpg', '13471273823_4800ca8eec.jpg', '479115838_0771a6cdff.jpg', '18001393975_2a6acaabd8.jpg', '9965757055_ff01b5ee6f_n.jpg', '34654530326_6dcda41377_n.jpg', '7355522_b66e5d3078_m.jpg', '146242691_44d9c9d6ce_n.jpg', '19617643201_9922eec796.jpg', '16953818045_fea21c8bf8.jpg', '3476980444_c276bea402_m.jpg', '15821571649_06c4b9a868_n.jpg', '34728513735_ebb4b179eb_n.jpg', '3419176626_512811d3ff.jpg', '15297244181_011883a631_m.jpg', '8740787470_67230d0609.jpg', '18996760154_58d3c48604.jpg', '20179380768_7a2990d4e3_n.jpg', '3483575184_cb8d16a083_n.jpg', '2319777940_0cc5476b0d_n.jpg', '4606893762_c2f26c7e91_n.jpg', '34719957845_c929f480a3_n.jpg', '5862288632_1df5eb6dd0.jpg', '3554435478_1a7ab743e9_n.jpg', '2395009660_295c8ffd67_m.jpg', '1667963621_c76d570af3_n.jpg', '4510350093_3700064215.jpg', '3517492544_0fd3ed6a66_m.jpg', '8740218495_23858355d8_n.jpg', '2670304799_a3f2eef516_m.jpg', '17862580326_293070978d_m.jpg', '5716633491_55e6f02645_n.jpg', '8168031302_6e36f39d87.jpg', '5217892384_3edce91761_m.jpg', '17388674711_6dca8a2e8b_n.jpg', '8780964418_7a01a7f48a_n.jpg', '8935477500_89f22cca03_n.jpg', '19443726008_8c9c68efa7_m.jpg', '3662701865_3ff283a33a_n.jpg', '2389720627_8923180b19.jpg', '7315832212_b0ceeb8de8_n.jpg', '34536491752_dd130e7b79_n.jpg', '18803577858_fd0036e1f5_m.jpg', '2477231067_3aecef1bf8_n.jpg', '4669815582_0a994fb4fd_m.jpg', '23659122395_3467d88c02_n.jpg', '4645101643_9c9d9df13e.jpg', '34692530906_fe2470a5e5_n.jpg', '34601267911_00c92c9a04_n.jpg', '5109496141_8dcf673d43_n.jpg', '14740350060_a489d9fa06.jpg', '13887066460_64156a9021.jpg', '17047231499_bd66c23641.jpg', '7808545612_546cfca610_m.jpg', '7280227122_7ea2bef7f4_n.jpg', '22679060358_561ec823ae_m.jpg', '4716316039_044e4d2d1a.jpg', '33071081032_a6a1e4b311_n.jpg', '3581252194_8c976d333a_n.jpg', '19067907051_16d530c7d2.jpg', '15987457_49dc11bf4b.jpg', '2473862606_291ae74885.jpg', '34700475225_fbc12d0834_n.jpg', '151979452_9832f08b69.jpg', '2503034372_db7867de51_m.jpg', '34206776142_941d75c2ed_n.jpg', '19586799286_beb9d684b5.jpg', '34717754295_cbb0185a36_n.jpg', '7465850028_cdfaae235a_n.jpg', '33852722714_496828f866_n.jpg', '468749497_951c571eff_n.jpg', '4560613196_91a04f8dcf_m.jpg', '160456948_38c3817c6a_m.jpg', '2512977446_ac498955ee.jpg', '29556932571_f124d8ac5d_n.jpg', '4708723476_a1b476a373.jpg', '18482768066_677292a64e.jpg', '16375088191_2bf2916b53.jpg', '4629844753_4e02015d29_m.jpg', '5642429835_a0cbf1bab7_n.jpg', '19437710780_c5f2156438.jpg', '26741270544_f44f3a1b19_n.jpg', '34690508115_bafcb9845c_n.jpg', '34689593326_0fd3fbc38a_n.jpg', '14614655810_9910e6dbd6_n.jpg', '8989067485_aab399460b_n.jpg', '6994925894_030e157fe0.jpg', '17020815734_81e8db8008_m.jpg', '458011386_ec89115a19.jpg', '23414449869_ee849a80d4.jpg', '13881700933_69a750d418_n.jpg', '5623855601_ecaebdb8fe.jpg', '8831808134_315aedb37b.jpg', '14292205986_da230467ef.jpg', '14362539701_cf19e588ca.jpg', '2470874500_43d8011e75.jpg', '22190242684_8c3300d4e6.jpg', '5607983792_f8b8766ff7.jpg', '142390525_5d81a3659d_m.jpg', '3998927705_af499a4f29.jpg', '22196426956_eca94f6faa_m.jpg', '3419172904_7708414ae9_n.jpg', '8223968_6b51555d2f_n.jpg', '34697163155_5dc2571f23_n.jpg', '9011235009_58c7b244c1_n.jpg', '10486992895_20b344ce2d_n.jpg', '3675486971_d4c8683b54_n.jpg', '33907694863_f7c0f23ef3_n.jpg', '2698102820_f15445a3f7.jpg', '19600096066_67dc941042.jpg', '3469112805_6cc8640236.jpg', '7153497513_076486e26b_n.jpg', '8963359346_65ca69c59d_n.jpg', '477207005_6327db8393_m.jpg', '34561332721_04b6f1c889_n.jpg', '29535628436_2e79a9628d_n.jpg', '4654848357_9549351e0b_n.jpg', '34603214751_8b42379b53_n.jpg', '9293460423_7fbb1e3c32_n.jpg', '8701999625_8d83138124.jpg', '6208857436_14a65fe4af_n.jpg', '2963905796_227d37ff12.jpg', '8980266062_8387f6cc89.jpg', '140951103_69847c0b7c.jpg', '2444241718_3ca53ce921.jpg', '8744249948_36cb1969f8_m.jpg', '2443192475_c64c66d9c2.jpg', '4638438929_2ec76083c8_m.jpg', '18876985840_7531dc8e6a.jpg', '4552571121_2677bcdec3.jpg', '34699848885_a832ee03ab_n.jpg', '5598591979_ed9af1b3e9_n.jpg', '136011860_44ca0b2835_n.jpg', '4560663938_3557a1f831.jpg', '15358221063_2c6e548e84.jpg', '4574736702_b15ecf97d0_m.jpg', '4847150510_7a5db086fa.jpg', '4635296297_9ce69e4a6e.jpg', '34575269471_fe82b32aa9_n.jpg', '3730618647_5725c692c3_m.jpg', '2497301920_91490c42c0.jpg', '8805314187_1aed702082_n.jpg', '4632235020_d00ce1e497.jpg', '32120685303_90b5f21ab2_n.jpg', '5760890854_c3e009bc8a_n.jpg', '18243351371_5fda92ac0a_n.jpg', '19617425002_b914c1e2ab.jpg', '34732908685_a219574ffe_n.jpg', '4624036600_11a4744254_n.jpg', '8687729737_a7fbeded2c_m.jpg', '5644234724_cb0917ee33_m.jpg', '2465442759_d4532a57a3.jpg', '17346385582_7ba433dbbe.jpg', '7243174412_d3628e4cc4_m.jpg', '3554992110_81d8c9b0bd_m.jpg', '14404468648_37903d7025_m.jpg', '151861297_55b10a03a6_n.jpg', '3005677730_2662753d3f_m.jpg', '2330339852_fbbdeb7306_n.jpg', '3823142577_dd5acd5ac6_n.jpg', '142813254_20a7fd5fb6_n.jpg', '6250363717_17732e992e_n.jpg', '4523239455_9c31a06aaf_n.jpg', '3454102259_957ecd0a9b.jpg', '29138994986_267e0e36c9_n.jpg', '3418355347_2bdcca592a.jpg', '3496258301_ca5f168306.jpg', '5598014250_684c28bd5c_n.jpg', '3393564906_f2df184b76_n.jpg', '33980437760_60f3ceaf03_n.jpg', '18282528206_7fb3166041.jpg', '34343228430_8df9f1c03a_n.jpg', '8689302100_be76a16ccc_n.jpg', '17161833794_e1d92259d2_m.jpg', '3372748508_e5a4eacfcb_n.jpg', '4258272073_f616d1e575_m.jpg', '18243329421_771b4d938e.jpg', '3562861685_8b8d747b4d.jpg', '176284193_8fa1710431_m.jpg', '5676682203_70d797f760.jpg', '17135145776_4c2ec21b05_m.jpg', '510677438_73e4b91c95_m.jpg', '2625836599_03e192266f.jpg', '17649230811_9bdbbacb8c.jpg', '480621885_4c8b50fa11_m.jpg', '3533167406_e9f4cf10bb_m.jpg', '5875763050_82f32f2eed_m.jpg', '6146107825_45f708ecd7_n.jpg', '14003401241_543535b385.jpg', '8978962053_0727b41d26.jpg', '18204150090_fb418bbddb.jpg', '2693136371_dde2570813.jpg', '6983105424_f33cc9b08d_m.jpg', '17029965300_8e755c2214_n.jpg', '2495749544_679dc7ccef.jpg', '2330343016_23acc484ee.jpg', '138166590_47c6cb9dd0.jpg', '9200211647_be34ce978b.jpg', '4721773235_429acdf496_n.jpg', '3539077354_c67aa7168d_m.jpg', '8733226215_161309f8ec.jpg', '5909154147_9da14d1730_n.jpg', '8475758_4c861ab268_m.jpg', '7218569994_de7045c0c0.jpg', '20456824132_b1c8fbfa41_m.jpg', '2457473644_5242844e52_m.jpg', '4562516418_8ccb8c103f.jpg', '2502613166_2c231b47cb_n.jpg', '7243478942_30bf542a2d_m.jpg', '16911008669_ea21fd8915_n.jpg', '20983660733_06b35b9eb8.jpg', '4550784336_584d7a65de_m.jpg', '8691437509_9ac8441db7_n.jpg', '4858372040_52216eb0bd.jpg', '130733200_fbe28eea19.jpg', '9301891790_971dcfb35d_m.jpg', '16650892835_9228a3ef67_m.jpg', '15782158700_3b9bf7d33e_m.jpg', '6900157914_c3387c11d8.jpg', '459748276_69101b0cec_n.jpg', '13897156242_dca5d93075_m.jpg', '33877696673_2d1de2d252_n.jpg', '16241101274_334b54731e.jpg', '33841565863_7ab8c1e23c_n.jpg', '19440910519_cb1162470e.jpg', '9759608055_9ab623d193.jpg', '7367491658_9eb4dc2384_m.jpg', '18010259565_d6aae33ca7_n.jpg', '8533312924_ee09412645_n.jpg', '6044710875_0459796d1b_m.jpg', '8642679391_0805b147cb_m.jpg', '16041975_2f6c1596e5.jpg', '7184780734_3baab127c2_m.jpg', '34555389922_8da9ffa268_n.jpg', '19551343814_48f764535f_m.jpg', '8905148527_ba9f55cd78.jpg', '34604803411_99956ac67a_n.jpg', '14283011_3e7452c5b2_n.jpg', '1128626197_3f52424215_n.jpg', '4556178143_e0d32c0a86_n.jpg', '8737699225_19e0c9f0fa_m.jpg', '14396023703_11c5dd35a9.jpg', '284497199_93a01f48f6.jpg', '15005530987_e13b328047_n.jpg', '8980145452_efbd6e3b04.jpg', '16159487_3a6615a565_n.jpg', '7808430998_31ba639031_n.jpg', '14886963928_d4856f1eb6_n.jpg', '18215579866_94b1732f24.jpg', '3451637528_b245144675_n.jpg', '34323645656_afd53a9996_n.jpg', '34694292346_83b4d97809_n.jpg', '14070457521_8eb41f65fa.jpg', '12998979765_3de89e7195_n.jpg', '33849982914_0f017c8e3c_n.jpg', '14019781123_ea0f8722d4_n.jpg', '5629940298_634f35125c.jpg', '4573886524_5161482ca7_n.jpg', '3591588855_b4fd53b000.jpg', '3476759348_a0d34a4b59_n.jpg', '33892886253_7c74efdd7a_n.jpg', '33877749474_1fb8111daf_n.jpg', '3398195641_456872b48b_n.jpg', '6104442744_ee2bcd32e7_n.jpg', '4258272381_65bd4b8191_m.jpg', '34690477346_6af75b993b_n.jpg', '8647874151_aac8db2588_m.jpg', '33877585464_b23cefb361_n.jpg', '4676527148_d701b9202f_n.jpg', '29157239893_f43793c697_n.jpg', '2553703483_558d12668c_n.jpg', '3198028825_fdfaa1d020.jpg', '34560984002_254f326f12_n.jpg', '7132676187_7a4265b16f_n.jpg', '19593576916_f5a083d7fe_n.jpg', '2622697182_ea4aff29dd_n.jpg', '22274701614_901606ee34_n.jpg', '4589787911_851cb80157_n.jpg', '18238604119_a5689980ee_n.jpg', '17903104293_9138439e76.jpg', '14171812905_8b81d50eb9_n.jpg', '6019234426_d25ea1230a_m.jpg', '34724303275_b9494837aa_n.jpg', '10683189_bd6e371b97.jpg', '11775820493_10fedf4bff_n.jpg', '7099259755_1c66420206_n.jpg', '10443973_aeb97513fc_m.jpg', '4657801292_73bef15031.jpg', '2620243133_e801981efe_n.jpg', '5768217474_f6b1eef6d5_n.jpg', '141652526_2be95f21c3_n.jpg', '2257649769_deaf97e2c9_n.jpg', '8738317694_eca2ce3bfc_n.jpg', '5628515159_6b437ff1e5_n.jpg', '5596093561_09b0301136_n.jpg', '4610125337_50798408b8_m.jpg', '34686041416_e50c8028f9_n.jpg', '34725992285_21cb05733a_n.jpg', '2503875867_2075a9225d_m.jpg', '26004221274_74900d17e1_n.jpg', '8723679596_391a724d4f_m.jpg', '2538797744_deb53ac253.jpg', '9517326597_5d116a0166.jpg', '4844697927_c70d644f40_n.jpg', '4574737576_044403a997_n.jpg', '6954604340_d3223ed296_m.jpg', '16699732794_5bfd639cf8_n.jpg', '8980164828_04fbf64f79_n.jpg', '494108764_e00178af6e.jpg', '8966818334_483f4489be_n.jpg', '15547944931_c1e095b185.jpg', '18111636378_856027a7b8_n.jpg', '5110102140_787d325757_n.jpg', '8707349105_6d06b543b0.jpg', '4669006062_6b3d260037_n.jpg', '808239968_318722e4db.jpg', '2753166154_0cb51a127b.jpg', '2569516382_9fd7097b9b.jpg', '4254850910_0610224342_n.jpg', '2635422362_a1bf641547_m.jpg', '6968202872_cfcb5b77fb.jpg', '14021281124_89cc388eac_n.jpg', '2462476884_58c617b26a.jpg', '4530848609_02a1d9b791.jpg', '5725836812_a7d1c5540d_m.jpg', '7295618968_c08a326cc1_m.jpg', '34352075020_61ac834f5a_n.jpg', '9939430464_5f5861ebab.jpg', '6103898045_e066cdeedf_n.jpg', '4155914848_3d57f50fc7.jpg', '6994931102_4667c0352e.jpg', '5628296138_9031791fab.jpg', '3461986955_29a1abc621.jpg', '13807932364_673b7f1c1c_n.jpg', '11405573_24a8a838cc_n.jpg', '34584449441_576a1336b1_n.jpg', '5110103388_78dc02558e_n.jpg', '16656127943_2f70926b6c.jpg', '33857574164_b0b724b567_n.jpg', '158988663_6fe055fcb4.jpg', '4290112545_3528055993_m.jpg', '3954167682_128398bf79_m.jpg', '14093789753_f0f1acdb57.jpg', '5600240736_4a90c10579_n.jpg', '14313509432_6f2343d6c8_m.jpg', '33859759654_be0be6f876_n.jpg', '16949657389_ac0ee80fd1_m.jpg', '2521827947_9d237779bb_n.jpg', '340190928_d77bf4d615.jpg', '11124381625_24b17662bd_n.jpg', '5651310874_c8be336c2b.jpg', '34256868592_ca3ffd6b15_n.jpg', '7132482331_01769e36e9_n.jpg', '3512879565_88dd8fc269_n.jpg', '14306875733_61d71c64c0_n.jpg', '5863928177_8ae1425e76_n.jpg', '5733004219_a0ba411bfa_n.jpg', '18996965033_1d92e5c99e.jpg', '14728922673_99086a3818_n.jpg', '4574447682_40dce530f1.jpg', '4557781241_0060cbe723_n.jpg', '6888894675_524a6accab_n.jpg', '34234226791_63a2afc7ed_n.jpg', '16691236594_4287cea9d6_n.jpg', '4645161319_c308fc31ef_n.jpg', '3584415133_a4122ab7b9.jpg', '18342918441_b1bb69a2fd_n.jpg', '34571561452_07ec474366_n.jpg', '9111669902_9471c3a49c_n.jpg', '3451646670_3eff7094b7_n.jpg', '570127230_ce409f90f8_n.jpg', '15819121091_26a5243340_n.jpg', '7083589767_2859993846_n.jpg', '17367866236_61abd4d243_n.jpg', '7425858848_d04dab08dd_n.jpg', '5674707921_1ffd141bab_n.jpg', '34339792440_8224ca420d_n.jpg', '5647842237_b1c5196718_n.jpg', '17147436650_c94ae24004_n.jpg', '10828951106_c3cd47983f.jpg', '13290033_ebd7c7abba_n.jpg', '7162551630_3647eb9254.jpg', '8956863946_f96be02aae_n.jpg', '2597655841_07fb2955a4.jpg', '18999743619_cec3f39bee.jpg', '13652698934_d258a6ee8c.jpg', '5767676943_4f9c7323f3_n.jpg', '16462263826_2555edeb74_n.jpg', '14469481104_d0e29f7ffd.jpg', '19551343954_83bb52f310_m.jpg', '5654859907_c2be3b0f1e_n.jpg', '6897671808_57230e04c5_n.jpg', '3584414925_1e6c4b61db_n.jpg', '14884028290_a1344eb446.jpg', '17466568484_9128287148.jpg', '19064700925_b93d474e37.jpg', '4512569988_2b3f802cc6.jpg', '138132145_782763b84f_m.jpg', '4573204385_9b71e96b35_m.jpg', '7132677385_bcbdcc6001.jpg', '515143813_b3afb08bf9.jpg', '8724252904_db9a5104df_m.jpg', '501987276_744448580c_m.jpg', '19602790836_912d38aaa8.jpg', '2661585172_94707236be_m.jpg', '34571238031_7eff74ca43_n.jpg', '5740633858_8fd54c23c9_n.jpg', '15268682367_5a4512b29f_m.jpg', '80846315_d997645bea_n.jpg', '493696003_f93ffb3abd_n.jpg', '5623492051_8e5ce438bd.jpg', '2512148749_261fa9d156.jpg', '479495978_ee22cf05be.jpg', '14128839257_23def53028.jpg', '17080000869_a80e767f4a_m.jpg', '14085038920_2ee4ce8a8d.jpg', '34571582172_efa4946a45_n.jpg', '14335561523_f847f2f4f1.jpg', '4164845062_1fd9b3f3b4.jpg', '16510864164_3afa8ac37f.jpg', '34591866681_ff35af51df_n.jpg', '8952484062_31d1d97e45.jpg', '33857437664_f2ddb77592_n.jpg', '34678209886_9005f29b47_n.jpg', '14914603395_b271ffab56_n.jpg', '7998106328_c3953f70e9_n.jpg', '3998275481_651205e02d.jpg', '7291185504_b740bbeba4_m.jpg', '8194560480_bfc1fb5801.jpg', '4575406391_7a62c5f90f_n.jpg', '463736819_f779800165.jpg', '10779476016_9130714dc0.jpg', '14164392167_650946a169_n.jpg', '17280886635_e384d91300_n.jpg', '7196683612_6c4cf05b24.jpg', '5607256228_2294c201b3.jpg', '3505026222_c760df0035_n.jpg', '3856725141_0db85f466d_n.jpg', '11595255065_d9550012fc.jpg', '14199664556_188b37e51e.jpg', '5673112305_02fe19297b_n.jpg', '7132605107_f5e033d725_n.jpg', '19506262462_d0945c14a6.jpg', '1776290427_9d8d5be6ac.jpg', '4588529727_4a79c61577.jpg', '6060576850_984176cf4f_n.jpg', '8270191872_61e47ae3b8_m.jpg', '141340262_ca2e576490.jpg', '8497389500_45636fdd14.jpg', '3518608454_c3fd3c311c_m.jpg', '14829055_2a2e646a8f_m.jpg', '7249354462_21925f7d95_n.jpg', '3991962484_085ba2da94.jpg', '34568232012_2e771f16f8_n.jpg', '5110104894_a52c685516_n.jpg', '7015947703_11b30c20c9_n.jpg', '19617501581_606be5f716_n.jpg', '1195255751_d58b3d3076.jpg', '17747738311_5014b1f77f.jpg', '4489359360_09db62f825.jpg', '13887031789_97437f246b.jpg', '4572738670_4787a11058_n.jpg', '4601270210_60136f2b87_n.jpg', '4500964841_b1142b50fb_n.jpg', '16237158409_01913cf918_n.jpg', '2697283969_c1f9cbb936.jpg', '10043234166_e6dd915111_n.jpg', '8747223572_dcd9601e99.jpg', '136999986_e410a68efb_n.jpg', '8759118120_9eac064e38_n.jpg', '7040710179_7f86a17a3c_n.jpg', '16242239484_51286673af.jpg', '2161283279_02ea3ff8d4.jpg', '7267547016_c8903920bf.jpg', '5675705011_82729927ca_n.jpg', '34533729452_7d8e2b519d_n.jpg', '8929523512_c87897b84e.jpg', '11768468623_9399b5111b_n.jpg', '18385846351_3a2bf60427_n.jpg', '139124974_9e3ba69f6c.jpg', '5646743865_a8f20b60f7_n.jpg', '7232035352_84a39e99ba_n.jpg', '33925191623_d355f976ef_n.jpg', '12094442595_297494dba4_m.jpg', '7222962522_36952a67b6_n.jpg', '3446018470_0c40e73ed6_m.jpg', '2467980325_237b14c737_m.jpg', '19435491090_7af558e17e.jpg', '27299697786_75340698c5_n.jpg', '17047385027_8fd510e164_n.jpg', '8717787983_c83bdf39fe_n.jpg', '5726984343_ae124aed97.jpg', '14053173516_a00150a919_m.jpg', '10777398353_5a20bb218c.jpg', '15139657325_74031c44fc.jpg', '163702807_e508544acd_n.jpg', '34722644565_812fcc1397_n.jpg', '17220096449_0e535989f0_n.jpg', '18089878729_907ed2c7cd_m.jpg', '17243540220_65b98eb926_n.jpg', '4226758402_a1b75ce3ac_n.jpg', '2596413098_7ef69b7e1d_m.jpg', '3696596109_4c4419128a_m.jpg', '33875520194_09bff6f262_n.jpg', '2938040169_eb38581359.jpg', '34525649892_e2ea3eb051_n.jpg', '34587934371_1a0429111e_n.jpg', '3458770076_17ed3a1225.jpg', '7188112181_571434b058_n.jpg', '14845607659_1be18c5d7f.jpg', '1297972485_33266a18d9.jpg', '7262863194_682209e9fb.jpg', '34721329895_529f999fb6_n.jpg', '578938011_34918b1468.jpg', '4558536575_d43a611bd4_n.jpg', '4586018734_6de9c513c2.jpg', '16837594326_1056d875a4_m.jpg', '1413979148_b40d63db90_m.jpg', '18587334446_ef1021909b_n.jpg', '7950892504_33142110c2.jpg', '34725991045_05812dedd5_n.jpg', '126012913_edf771c564_n.jpg', '14761980161_2d6dbaa4bb_m.jpg', '8969938579_4c2032dd96_n.jpg', '8719388716_1a392c4c0e_n.jpg', '2294126841_e478564e77_n.jpg', '1241011700_261ae180ca.jpg', '14375349004_68d893254a_n.jpg', '4510938552_6f7bae172a_n.jpg', '34587720941_ccbbc420ec_n.jpg', '177851662_b2622b4238_n.jpg', '15219268336_f2460fca88_m.jpg', '425800274_27dba84fac_n.jpg', '34694280496_d457f0d7b7_n.jpg', '455728598_c5f3e7fc71_m.jpg', '4265711814_9a006ee5b8.jpg', '33882910234_dd8f1479e3_n.jpg', '6983113346_21551e1b52_n.jpg', '7280217714_fb9ffccf2d_n.jpg', '2598486434_bf349854f2_m.jpg', '34310456510_a4ceda64da_n.jpg', '15378782362_4161b23af7_m.jpg', '8739657154_6db14796c9.jpg', '8842482175_92a14b4934_m.jpg', '10294487385_92a0676c7d_m.jpg']\n"
          ],
          "name": "stdout"
        },
        {
          "output_type": "error",
          "ename": "UnidentifiedImageError",
          "evalue": "ignored",
          "traceback": [
            "\u001b[0;31m---------------------------------------------------------------------------\u001b[0m",
            "\u001b[0;31mUnidentifiedImageError\u001b[0m                    Traceback (most recent call last)",
            "\u001b[0;32m<ipython-input-10-8664970ddefe>\u001b[0m in \u001b[0;36m<module>\u001b[0;34m()\u001b[0m\n\u001b[1;32m      7\u001b[0m         \u001b[0;32mfor\u001b[0m \u001b[0mimg\u001b[0m \u001b[0;32min\u001b[0m \u001b[0mimg_list\u001b[0m\u001b[0;34m:\u001b[0m\u001b[0;34m\u001b[0m\u001b[0;34m\u001b[0m\u001b[0m\n\u001b[1;32m      8\u001b[0m                 \u001b[0mimg_path\u001b[0m \u001b[0;34m=\u001b[0m \u001b[0mdata_path\u001b[0m \u001b[0;34m+\u001b[0m \u001b[0;34m'/'\u001b[0m\u001b[0;34m+\u001b[0m \u001b[0mdataset\u001b[0m \u001b[0;34m+\u001b[0m \u001b[0;34m'/'\u001b[0m\u001b[0;34m+\u001b[0m \u001b[0mimg\u001b[0m\u001b[0;34m\u001b[0m\u001b[0;34m\u001b[0m\u001b[0m\n\u001b[0;32m----> 9\u001b[0;31m                 \u001b[0mimg\u001b[0m \u001b[0;34m=\u001b[0m \u001b[0mimage\u001b[0m\u001b[0;34m.\u001b[0m\u001b[0mload_img\u001b[0m\u001b[0;34m(\u001b[0m\u001b[0mimg_path\u001b[0m\u001b[0;34m,\u001b[0m \u001b[0mtarget_size\u001b[0m\u001b[0;34m=\u001b[0m\u001b[0;34m(\u001b[0m\u001b[0;36m224\u001b[0m\u001b[0;34m,\u001b[0m \u001b[0;36m224\u001b[0m\u001b[0;34m)\u001b[0m\u001b[0;34m)\u001b[0m\u001b[0;34m\u001b[0m\u001b[0;34m\u001b[0m\u001b[0m\n\u001b[0m\u001b[1;32m     10\u001b[0m                 \u001b[0mx\u001b[0m \u001b[0;34m=\u001b[0m \u001b[0mimage\u001b[0m\u001b[0;34m.\u001b[0m\u001b[0mimg_to_array\u001b[0m\u001b[0;34m(\u001b[0m\u001b[0mimg\u001b[0m\u001b[0;34m)\u001b[0m\u001b[0;34m\u001b[0m\u001b[0;34m\u001b[0m\u001b[0m\n\u001b[1;32m     11\u001b[0m                 \u001b[0mx\u001b[0m \u001b[0;34m=\u001b[0m \u001b[0mnp\u001b[0m\u001b[0;34m.\u001b[0m\u001b[0mexpand_dims\u001b[0m\u001b[0;34m(\u001b[0m\u001b[0mx\u001b[0m\u001b[0;34m,\u001b[0m \u001b[0maxis\u001b[0m\u001b[0;34m=\u001b[0m\u001b[0;36m0\u001b[0m\u001b[0;34m)\u001b[0m\u001b[0;34m\u001b[0m\u001b[0;34m\u001b[0m\u001b[0m\n",
            "\u001b[0;32m/usr/local/lib/python3.6/dist-packages/keras/preprocessing/image.py\u001b[0m in \u001b[0;36mload_img\u001b[0;34m(path, grayscale, target_size)\u001b[0m\n\u001b[1;32m    320\u001b[0m         raise ImportError('Could not import PIL.Image. '\n\u001b[1;32m    321\u001b[0m                           'The use of `array_to_img` requires PIL.')\n\u001b[0;32m--> 322\u001b[0;31m     \u001b[0mimg\u001b[0m \u001b[0;34m=\u001b[0m \u001b[0mpil_image\u001b[0m\u001b[0;34m.\u001b[0m\u001b[0mopen\u001b[0m\u001b[0;34m(\u001b[0m\u001b[0mpath\u001b[0m\u001b[0;34m)\u001b[0m\u001b[0;34m\u001b[0m\u001b[0;34m\u001b[0m\u001b[0m\n\u001b[0m\u001b[1;32m    323\u001b[0m     \u001b[0;32mif\u001b[0m \u001b[0mgrayscale\u001b[0m\u001b[0;34m:\u001b[0m\u001b[0;34m\u001b[0m\u001b[0;34m\u001b[0m\u001b[0m\n\u001b[1;32m    324\u001b[0m         \u001b[0;32mif\u001b[0m \u001b[0mimg\u001b[0m\u001b[0;34m.\u001b[0m\u001b[0mmode\u001b[0m \u001b[0;34m!=\u001b[0m \u001b[0;34m'L'\u001b[0m\u001b[0;34m:\u001b[0m\u001b[0;34m\u001b[0m\u001b[0;34m\u001b[0m\u001b[0m\n",
            "\u001b[0;32m/usr/local/lib/python3.6/dist-packages/PIL/Image.py\u001b[0m in \u001b[0;36mopen\u001b[0;34m(fp, mode)\u001b[0m\n\u001b[1;32m   2860\u001b[0m         \u001b[0mwarnings\u001b[0m\u001b[0;34m.\u001b[0m\u001b[0mwarn\u001b[0m\u001b[0;34m(\u001b[0m\u001b[0mmessage\u001b[0m\u001b[0;34m)\u001b[0m\u001b[0;34m\u001b[0m\u001b[0;34m\u001b[0m\u001b[0m\n\u001b[1;32m   2861\u001b[0m     raise UnidentifiedImageError(\n\u001b[0;32m-> 2862\u001b[0;31m         \u001b[0;34m\"cannot identify image file %r\"\u001b[0m \u001b[0;34m%\u001b[0m \u001b[0;34m(\u001b[0m\u001b[0mfilename\u001b[0m \u001b[0;32mif\u001b[0m \u001b[0mfilename\u001b[0m \u001b[0;32melse\u001b[0m \u001b[0mfp\u001b[0m\u001b[0;34m)\u001b[0m\u001b[0;34m\u001b[0m\u001b[0;34m\u001b[0m\u001b[0m\n\u001b[0m\u001b[1;32m   2863\u001b[0m     )\n\u001b[1;32m   2864\u001b[0m \u001b[0;34m\u001b[0m\u001b[0m\n",
            "\u001b[0;31mUnidentifiedImageError\u001b[0m: cannot identify image file '/content/flowers/dandelion/flickr.py'"
          ]
        }
      ]
    }
  ]
}